{
 "cells": [
  {
   "cell_type": "code",
   "execution_count": 23,
   "metadata": {
    "ExecuteTime": {
     "end_time": "2019-11-25T20:38:47.766678Z",
     "start_time": "2019-11-25T20:38:47.586528Z"
    }
   },
   "outputs": [
    {
     "name": "stderr",
     "output_type": "stream",
     "text": [
      "The PostScript backend does not support transparency; partially transparent artists will be rendered opaque.\n",
      "The PostScript backend does not support transparency; partially transparent artists will be rendered opaque.\n"
     ]
    },
    {
     "name": "stdout",
     "output_type": "stream",
     "text": [
      "[13.752295955719521, 13.57627884532324, 13.570487307724463, 13.570358506400494, 13.570200020064622, 13.568681848877151, 13.557038470787688, 13.551412928638268, 13.551144499545247, 13.551039643449021, 13.550866144635544, 13.550741362335625, 13.550640060445364, 13.530529275102761]\n"
     ]
    },
    {
     "data": {
      "image/png": "[encoded data removed]",
      "text/plain": [
       "<Figure size 432x288 with 1 Axes>"
      ]
     },
     "metadata": {
      "needs_background": "light"
     },
     "output_type": "display_data"
    }
   ],
   "source": [
    "import csv\n",
    "import numpy as np\n",
    "import matplotlib.pyplot as plt\n",
    "import pandas as pd\n",
    "import sys\n",
    "import json\n",
    "\n",
    "filename = 'reportHYSYS.csv'\n",
    "\n",
    "f = open(filename,'r')\n",
    "reader = csv.reader(f)\n",
    "\n",
    "points = []\n",
    "values = []\n",
    "\n",
    "for row in reader:\n",
    "    index = reader.line_num        \n",
    "    point = row[0].strip(',')\n",
    "    value = float(row[1])\n",
    "    \n",
    "    if len(values) == 0 or value < values[-1]:\n",
    "        values.append(value)\n",
    "        points.append(json.loads(point))\n",
    "f.close()\n",
    "\n",
    "print(values)\n",
    "calls = [16,32,48,80,112,144,176,208,272,336,400,464,528,592]\n",
    "\n",
    "plt.plot(calls,values,'-.')\n",
    "plt.legend(['HYSYS values'])\n",
    "plt.grid()\n",
    "plt.savefig('hysys.eps')"
   ]
  }
 ],
 "metadata": {
  "kernelspec": {
   "display_name": "Python 3",
   "language": "python",
   "name": "python3"
  },
  "language_info": {
   "codemirror_mode": {
    "name": "ipython",
    "version": 3
   },
   "file_extension": ".py",
   "mimetype": "text/x-python",
   "name": "python",
   "nbconvert_exporter": "python",
   "pygments_lexer": "ipython3",
   "version": "3.7.0"
  },
  "toc": {
   "base_numbering": 1,
   "nav_menu": {},
   "number_sections": true,
   "sideBar": true,
   "skip_h1_title": false,
   "title_cell": "Table of Contents",
   "title_sidebar": "Contents",
   "toc_cell": false,
   "toc_position": {},
   "toc_section_display": true,
   "toc_window_display": false
  }
 },
 "nbformat": 4,
 "nbformat_minor": 2
}
