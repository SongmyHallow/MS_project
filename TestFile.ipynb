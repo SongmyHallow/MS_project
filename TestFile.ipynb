{
 "cells": [
  {
   "cell_type": "code",
   "execution_count": 11,
   "metadata": {
    "ExecuteTime": {
     "end_time": "2019-10-27T20:56:35.790671Z",
     "start_time": "2019-10-27T20:56:35.784672Z"
    }
   },
   "outputs": [],
   "source": [
    "def saveTemp(dic,Xdata,ydata):\n",
    "    for i,j in zip(Xdata,ydata):\n",
    "        if i not in dic.keys():\n",
    "            dic[i] = j\n",
    "    return\n",
    "\n",
    "def retrieveTemp(dic,lb,ub,Xdata,ydata):\n",
    "    for key in dic.keys():\n",
    "        if key>lb and key<ub and key not in Xdata:\n",
    "            Xdata.append(key)\n",
    "            ydata.append(dic[key])\n",
    "    return"
   ]
  },
  {
   "cell_type": "code",
   "execution_count": 11,
   "metadata": {
    "ExecuteTime": {
     "end_time": "2019-10-28T22:20:41.573950Z",
     "start_time": "2019-10-28T22:20:41.437921Z"
    }
   },
   "outputs": [
    {
     "data": {
      "image/png": "[encoded data removed]",
      "text/plain": [
       "<Figure size 432x288 with 1 Axes>"
      ]
     },
     "metadata": {
      "needs_background": "light"
     },
     "output_type": "display_data"
    }
   ],
   "source": [
    "import matplotlib.pyplot as plt\n",
    "X = [[1.1,2.1,3.1,4.1],[2.2,3.2,4.2,5.2],[3.3,4.3,5.3,6.3]]\n",
    "y = [[11,12,13,14],[22,23,24,25],[23,24,25,26]]\n",
    "for x,y in zip(X,y):\n",
    "    plt.plot(x,y,marker='<')\n",
    "plt.xlabel(\"Function Evaluations\")\n",
    "plt.ylabel(\"Evaluation Values\")\n",
    "plt.grid()\n",
    "plt.legend(['1','2','3'])\n",
    "plt.show()"
   ]
  },
  {
   "cell_type": "code",
   "execution_count": 9,
   "metadata": {
    "ExecuteTime": {
     "end_time": "2019-10-31T17:37:01.389415Z",
     "start_time": "2019-10-31T17:37:01.383415Z"
    }
   },
   "outputs": [
    {
     "name": "stdout",
     "output_type": "stream",
     "text": [
      "[0.5, 0.75, 0.25, 0.375, 0.875, 0.625, 0.125, 0.1875, 0.6875, 0.9375, 0.4375, 0.3125, 0.8125, 0.5625, 0.0625, 0.09375]\n",
      "[5000.0, 5000.5, 4999.5, 4999.75, 5000.75, 5000.25, 4999.25, 4999.375, 5000.375, 5000.875, 4999.875, 4999.625, 5000.625, 5000.125, 4999.125, 4999.1875]\n"
     ]
    }
   ],
   "source": [
    "import numpy as np\n",
    "import sobol_seq\n",
    "Xdata = sobol_seq.i4_sobol_generate(1,16)\n",
    "Xdata = [lst[0] for lst in Xdata]\n",
    "print(Xdata)\n",
    "ratio = (5001-4999)/1.0\n",
    "seq = []\n",
    "for i in Xdata:\n",
    "    seq.append(i*ratio+4999)\n",
    "print(seq)"
   ]
  },
  {
   "cell_type": "code",
   "execution_count": 17,
   "metadata": {
    "ExecuteTime": {
     "end_time": "2019-11-15T18:51:26.804524Z",
     "start_time": "2019-11-15T18:51:26.792315Z"
    }
   },
   "outputs": [
    {
     "data": {
      "text/plain": [
       "32512"
      ]
     },
     "execution_count": 17,
     "metadata": {},
     "output_type": "execute_result"
    }
   ],
   "source": [
    "import numpy as np\n",
    "from collections import Counter\n",
    "import os\n",
    "lst = [1,2,3,4,5]\n",
    "test = lst[:]\n",
    "test[1] = 100\n",
    "lst\n",
    "\n",
    "os.system('.\\\\all\\\\'+'aircrftb')"
   ]
  },
  {
   "cell_type": "code",
   "execution_count": 1,
   "metadata": {
    "ExecuteTime": {
     "end_time": "2019-12-01T00:01:49.831057Z",
     "start_time": "2019-12-01T00:01:45.263406Z"
    }
   },
   "outputs": [
    {
     "data": {
      "text/plain": [
       "<Figure size 1500x1000 with 6 Axes>"
      ]
     },
     "metadata": {},
     "output_type": "display_data"
    }
   ],
   "source": [
    "import random\n",
    "from Sampling import van_der_corput,halton_sequence,hammersley_sequence,latin_random_sequence,sobol_sequence\n",
    "import numpy as np\n",
    "import matplotlib.pyplot as plt\n",
    "\n",
    "fig, ax = plt.subplots(2,3,figsize=(15,10),sharex='col',sharey='row')\n",
    "\n",
    "ax[0,0] = plt.subplot(231)\n",
    "ydata = []\n",
    "for i in range(1000):\n",
    "    ydata.append(random.uniform(1,10))\n",
    "Xdata = [i+1 for i in range(1000)]\n",
    "plt.plot(Xdata,ydata,'o')\n",
    "plt.title('(a)')\n",
    "plt.xlabel('Python random sequence[1:1000]')\n",
    "plt.setp(ax[0,0].get_xticklabels(),visible=False)\n",
    "\n",
    "ax[1,0] = plt.subplot(234)\n",
    "ydata, _ = van_der_corput(1,10,1000,2)\n",
    "Xdata = [i+1 for i in range(1000)]\n",
    "plt.plot(Xdata,ydata,'o')\n",
    "plt.title('(d)')\n",
    "plt.xlabel('Van Der Corput sequence[1:1000]')\n",
    "\n",
    "ax[0,1] = plt.subplot(232)\n",
    "ydata, _ = halton_sequence(1,10,1000)\n",
    "Xdata = [i+1 for i in range(1000)]\n",
    "plt.plot(Xdata,ydata,'o')\n",
    "plt.title('(b)')\n",
    "plt.xlabel('Halton sequence[1:1000]')\n",
    "plt.setp(ax[0,1].get_xticklabels(),visible=False)\n",
    "plt.setp(ax[0,1].get_yticklabels(),visible=False)\n",
    "\n",
    "ax[1,1] = plt.subplot(235)\n",
    "ydata, _ = hammersley_sequence(1,10,999)\n",
    "Xdata = [i+1 for i in range(1000)]\n",
    "plt.plot(Xdata,ydata,'o')\n",
    "plt.title('(e)')\n",
    "plt.xlabel('Hammersley sequence[1:1000]')\n",
    "plt.setp(ax[1,1].get_yticklabels(),visible=False)\n",
    "\n",
    "ax[0,2] = plt.subplot(233)\n",
    "ydata, _ = latin_random_sequence(1,10,1000,1,1)\n",
    "Xdata = [i+1 for i in range(1000)]\n",
    "plt.plot(Xdata,ydata,'o')\n",
    "plt.title('(c)')\n",
    "plt.xlabel('Latin random sequence[1:1000]')\n",
    "plt.setp(ax[0,2].get_xticklabels(),visible=False)\n",
    "plt.setp(ax[0,2].get_yticklabels(),visible=False)\n",
    "\n",
    "ax[1,2] = plt.subplot(236)\n",
    "ydata = sobol_sequence(1,10,1,1000)\n",
    "Xdata = [i+1 for i in range(1000)]\n",
    "plt.plot(Xdata,ydata,'o')\n",
    "plt.title('(f)')\n",
    "plt.xlabel('Sobol sequence[1:1000]')\n",
    "plt.setp(ax[1,2].get_yticklabels(),visible=False)\n",
    "\n",
    "plt.tight_layout()\n",
    "plt.savefig('sample_ref.png',bbox_inches='tight')\n",
    "plt.show()"
   ]
  }
 ],
 "metadata": {
  "kernelspec": {
   "display_name": "Python 3",
   "language": "python",
   "name": "python3"
  },
  "language_info": {
   "codemirror_mode": {
    "name": "ipython",
    "version": 3
   },
   "file_extension": ".py",
   "mimetype": "text/x-python",
   "name": "python",
   "nbconvert_exporter": "python",
   "pygments_lexer": "ipython3",
   "version": "3.7.0"
  },
  "toc": {
   "base_numbering": 1,
   "nav_menu": {},
   "number_sections": true,
   "sideBar": true,
   "skip_h1_title": false,
   "title_cell": "Table of Contents",
   "title_sidebar": "Contents",
   "toc_cell": false,
   "toc_position": {},
   "toc_section_display": true,
   "toc_window_display": false
  }
 },
 "nbformat": 4,
 "nbformat_minor": 2
}
