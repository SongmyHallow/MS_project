{
 "cells": [
  {
   "cell_type": "markdown",
   "metadata": {},
   "source": [
    "# Integrated in class    "
   ]
  },
  {
   "cell_type": "markdown",
   "metadata": {},
   "source": [
    "## Parameters\n",
    "1. Name of black box  \n",
    "2. Number of variables  \n",
    "3. Lower/Upper boundary  \n",
    "4. Initial starting point"
   ]
  },
  {
   "cell_type": "markdown",
   "metadata": {},
   "source": [
    "## Methods\n",
    "1. showParameter  \n",
    "2. compileCode  \n",
    "3. readDateFile  "
   ]
  },
  {
   "cell_type": "code",
   "execution_count": 2,
   "metadata": {
    "ExecuteTime": {
     "end_time": "2019-07-25T20:07:50.134843Z",
     "start_time": "2019-07-25T20:07:50.110843Z"
    }
   },
   "outputs": [],
   "source": [
    "import os\n",
    "class blackBox(object):\n",
    "    radius = 0.5\n",
    "    def __init__(self,name=None,cycles=None,radius=None,\n",
    "                 numOfVar=None,\n",
    "                 lowBound=[],upBound=[],\n",
    "                 iniStart=[],backUpStart=[],actualStart=[]):\n",
    "        self.name = name\n",
    "        self.cycles = cycles\n",
    "        self.radius = radius\n",
    "        self.numOfVar = numOfVar\n",
    "        self.lowBound = lowBound\n",
    "        self.upBound = upBound\n",
    "        self.iniStart = iniStart\n",
    "        self.backUpStart = backUpStart\n",
    "        self.actualStart = actualStart\n",
    "    def clear(self):\n",
    "        self.name=None\n",
    "        self.cycles=None\n",
    "        self.radius=None\n",
    "        self.numOfVar = None\n",
    "        self.lowBound = []\n",
    "        self.upBound = []\n",
    "        self.iniStart = []\n",
    "        self.backUpStart = []\n",
    "        self.actualStart = []\n",
    "    \n",
    "    def showParameter(self):\n",
    "        print(\"Name:\",self.name)\n",
    "        print(\"Total number of cycles:\",self.cycles)\n",
    "        print(\"Search radius:\",self.radius)\n",
    "        print(\"Number of variables:\",self.numOfVar)\n",
    "        print(\"lowBound:\",self.lowBound)\n",
    "        print(\"upBound:\",self.upBound)\n",
    "        print(\"Initial starting point from data file:\",self.iniStart)\n",
    "        print(\"Back up starting points:\",self.backUpStart)\n",
    "        print(\"Actual starting point is:\",self.actualStart)\n",
    "        \n",
    "    '''\n",
    "    Compile .c file\n",
    "    :param string filename: name of c file (with out extension)\n",
    "    ''' \n",
    "    def compileCode(self):\n",
    "        os.system('gcc source_princetonlibgloballib/'+self.name+'.c -lm -o '+self.name)\n",
    "        after_name = self.name+\".exe\"\n",
    "        print(\"Blackbox Model Name: \",self.name)\n",
    "        if(os.path.exists(after_name)):\n",
    "            print(\"Compilation finished\")\n",
    "        else:\n",
    "            print(\"Compilation failed\")\n",
    "    \n",
    "    \n",
    "    '''\n",
    "    Read boundaries, starting points and number of variables\n",
    "    :param string filename: name of c file (with out extension)\n",
    "    '''\n",
    "    def readDataFile(self):\n",
    "        infile = open(\"problemdata/\"+self.name+\".problem.data\",'r')\n",
    "        lines = infile.readlines()\n",
    "        # The first line\n",
    "        for num in lines[0].split():\n",
    "            self.numOfVar = int(num.strip())\n",
    "        # The second line\n",
    "        for i in lines[1].split():\n",
    "            self.lowBound.append(float(i.strip()))\n",
    "        # The third line\n",
    "        for j in lines[2].split():\n",
    "            self.upBound.append(float(j.strip()))\n",
    "        # The fourth line\n",
    "        for k in lines[3].split():\n",
    "            self.iniStart.append(float(k.strip()))\n",
    "        infile.close()\n",
    "\n",
    "    def genBackupStart(self):\n",
    "        import numpy as np    \n",
    "        # TODO: Finally I want to generate 10 backup starting points, which can be modifed later\n",
    "        for i in range(len(self.lowBound)):\n",
    "            arr = np.linspace(self.lowBound[i],self.upBound[0],12)\n",
    "            self.backUpStart.append(arr)\n",
    "        self.backUpStart = np.transpose(self.backUpStart)[1:-1]\n",
    "        \n",
    "    def genActualStart(self):\n",
    "        import random\n",
    "        self.actualStart = random.choice(self.backUpStart)\n",
    "        output = genBlackBoxValue(self.name,self.actualStart)\n",
    "        while(output == \"INF\"):\n",
    "            self.backUpStart.remove(self.actualStart)\n",
    "            self.actualStart = random.choice(self.backUpStart)\n",
    "            output = genBlackBoxValue(self.name,self.actualStart)\n",
    "    \n",
    "    def genVariableBound(self,index):\n",
    "        if(self.actualStart[index]-self.radius<self.lowBound[index]):\n",
    "            lb = self.lowBound[index]\n",
    "        else:\n",
    "            lb = self.actualStart[index]-self.radius\n",
    "        \n",
    "        if(self.actualStart[index]+self.radius>self.upBound[index]):\n",
    "            ub = self.upBound[index]\n",
    "        else:\n",
    "            ub = self.actualStart[index]+self.radius\n",
    "        return lb,ub\n",
    "        \n",
    "    \n",
    "    def coordinateSearch(self):\n",
    "        import random\n",
    "        from Sampling import halton_sequence,hammersley_sequence,van_der_corput,latin_random_sequence\n",
    "        for cycle in range(self.cycles):\n",
    "            print(\"The No.\",cycle+1,\"Cycle\")\n",
    "            shuffleOrder = list(range(self.numOfVar))\n",
    "            random.shuffle(shuffleOrder)\n",
    "            for indexOfVar in shuffleOrder:\n",
    "                lb,ub = self.genVariableBound(indexOfVar)\n",
    "                print(lb,ub)"
   ]
  },
  {
   "cell_type": "markdown",
   "metadata": {},
   "source": [
    "# support functions"
   ]
  },
  {
   "cell_type": "markdown",
   "metadata": {},
   "source": [
    "## Input / Output"
   ]
  },
  {
   "cell_type": "code",
   "execution_count": 7,
   "metadata": {
    "ExecuteTime": {
     "end_time": "2019-07-25T20:08:39.162287Z",
     "start_time": "2019-07-25T20:08:39.155314Z"
    }
   },
   "outputs": [],
   "source": [
    "def writeInput(filename,input_values):\n",
    "    infile = open(filename, 'w')\n",
    "    for val in input_values:\n",
    "        infile.write(str(val)+'\\n')\n",
    "    infile.close()\n",
    "    \n",
    "def readOutput(filename):\n",
    "    readfile = open(filename, 'r')\n",
    "    line = readfile.readline()\n",
    "    if(line.strip() == \"1.#INF00000000000\"):\n",
    "        return \"INF\"\n",
    "    else:\n",
    "        output_value = float(line.strip())\n",
    "        return output_value\n",
    "    \n",
    "def genBlackBoxValue(filename,input_values):\n",
    "    input_filename = \"input.in\"\n",
    "    output_filename = \"output.out\"\n",
    "    \n",
    "    writeInput(filename,input_values)\n",
    "    os.system('.\\\\'+filename)\n",
    "    output_value = read_output(output_filename)\n",
    "    return output_value"
   ]
  },
  {
   "cell_type": "markdown",
   "metadata": {},
   "source": [
    "# Test"
   ]
  },
  {
   "cell_type": "code",
   "execution_count": null,
   "metadata": {},
   "outputs": [],
   "source": [
    "test1 = blackBox(name=\"aircrftb\",cycles=2,radius=1.0)\n"
   ]
  }
 ],
 "metadata": {
  "kernelspec": {
   "display_name": "Python 3",
   "language": "python",
   "name": "python3"
  },
  "language_info": {
   "codemirror_mode": {
    "name": "ipython",
    "version": 3
   },
   "file_extension": ".py",
   "mimetype": "text/x-python",
   "name": "python",
   "nbconvert_exporter": "python",
   "pygments_lexer": "ipython3",
   "version": "3.7.0"
  },
  "toc": {
   "base_numbering": 1,
   "nav_menu": {},
   "number_sections": true,
   "sideBar": true,
   "skip_h1_title": false,
   "title_cell": "Table of Contents",
   "title_sidebar": "Contents",
   "toc_cell": false,
   "toc_position": {},
   "toc_section_display": true,
   "toc_window_display": false
  }
 },
 "nbformat": 4,
 "nbformat_minor": 2
}
