{
 "cells": [
  {
   "cell_type": "markdown",
   "metadata": {},
   "source": [
    "# Compilation\n",
    "Compile destination C file.  \n",
    "Input: name of file without extension format\n",
    "Output: finished / failed"
   ]
  },
  {
   "cell_type": "code",
   "execution_count": 1,
   "metadata": {
    "ExecuteTime": {
<<<<<<< HEAD
     "end_time": "2019-07-01T20:09:34.793074Z",
     "start_time": "2019-07-01T20:09:34.789073Z"
=======
     "end_time": "2019-06-29T15:35:24.906840Z",
     "start_time": "2019-06-29T15:35:24.901839Z"
>>>>>>> 2ab4f7e7c8d6e3d737e4e784bd71f9edd077d305
    }
   },
   "outputs": [],
   "source": [
    "import os\n",
    "import sys\n",
    "def compileCode(filename):\n",
    "    os.system('gcc source_princetonlibgloballib/'+filename+'.c -lm -o '+filename)\n",
    "    after_name = filename+\".exe\"\n",
    "    print(\"Blackbox Model Name: \",filename)\n",
    "    if(os.path.exists(after_name)):\n",
    "        print(\"Compilation finished\")\n",
    "    else:\n",
    "        print(\"Compilation failed\")"
   ]
  },
  {
   "cell_type": "markdown",
   "metadata": {},
   "source": [
    "# Read boundaries, starting points and number of variables\n",
    "Read parameters from files in problemdata/ directory  \n",
    "input: data file name without extension format\n",
    "output: number of variables, lower bound, upper bound and starting point"
   ]
  },
  {
   "cell_type": "code",
   "execution_count": 2,
   "metadata": {
    "ExecuteTime": {
<<<<<<< HEAD
     "end_time": "2019-07-01T20:09:35.690680Z",
     "start_time": "2019-07-01T20:09:35.683670Z"
=======
     "end_time": "2019-06-29T15:35:25.262948Z",
     "start_time": "2019-06-29T15:35:25.255948Z"
>>>>>>> 2ab4f7e7c8d6e3d737e4e784bd71f9edd077d305
    }
   },
   "outputs": [],
   "source": [
    "# read data file to get values of number of vars, boundaries nad starting points\n",
    "\n",
    "def read_datafile(filename):\n",
    "    numOfVar = 0\n",
    "    lowBound = []\n",
    "    upBound = []\n",
    "    startPoint = []\n",
    "    \n",
    "    infile = open(\"problemdata/\"+filename+\".problem.data\",'r')\n",
    "    lines = infile.readlines()\n",
    "    # The first line\n",
    "    for num in lines[0].split():\n",
    "        numOfVar = int(num.strip())\n",
    "    # The second line\n",
    "    for i in lines[1].split():\n",
    "        lowBound.append(float(i.strip()))\n",
    "    # The third line\n",
    "    for j in lines[2].split():\n",
    "        upBound.append(float(j.strip()))\n",
    "    # The fourth line\n",
    "    for k in lines[3].split():\n",
    "        startPoint.append(float(k.strip()))\n",
    "    infile.close()\n",
    "    print(\"Number of Variables: \",numOfVar)\n",
    "    print(\"Lower Boundary: \",lowBound)\n",
    "    print(\"Upper Boundary: \",upBound)\n",
    "    print(\"Starting point is: \",startPoint)\n",
    "    return numOfVar,lowBound,upBound,startPoint"
   ]
  },
  {
   "cell_type": "markdown",
   "metadata": {},
   "source": [
    "# Sampling\n",
    "## Hammersley sequence\n",
    "Generate input values according to Hammersley sequence which is a classical low discrepency sequence making points spread evenly in multi-dimentional space  \n",
    "@Parameters:  \n",
    "Input, integer I, the index of the element of the sequence.  0 <= I.    \n",
    "Input, integer M, the spatial dimension.  1 <= M <= 100.  \n",
    "Input, integer N, the \"base\" for the first component.   1 <= N.  \n",
    "Output, real R(M), the element of the sequence with index I."
   ]
  },
  {
   "cell_type": "code",
   "execution_count": 3,
   "metadata": {
    "ExecuteTime": {
<<<<<<< HEAD
     "end_time": "2019-07-01T20:09:36.915330Z",
     "start_time": "2019-07-01T20:09:36.808086Z"
=======
     "end_time": "2019-06-29T15:35:25.729071Z",
     "start_time": "2019-06-29T15:35:25.615833Z"
>>>>>>> 2ab4f7e7c8d6e3d737e4e784bd71f9edd077d305
    }
   },
   "outputs": [],
   "source": [
    "import numpy as np\n",
    "def hammersley (i,m=1,n=16):\n",
    "    i = int ( i )\n",
    "    t = np.ones ( m - 1 )\n",
    "    t = i * t\n",
    "#\n",
    "#  Carry out the computation.\n",
    "#\n",
    "    prime_inv = np.zeros ( m - 1 )\n",
    "    for j in range ( 0, m - 1 ):\n",
    "        prime_inv[j] = 1.0 / float ( prime ( j ) )\n",
    "    r = np.zeros ( m )\n",
    "    r[0] = float ( i % ( n + 1 ) ) / float ( n )\n",
    "    while ( 0 < np.sum ( t ) ):\n",
    "        for j in range ( 0, m - 1 ):\n",
    "            d = ( t[j] % prime ( j ) )\n",
    "            r[j+1] = r[j+1] + float ( d ) * prime_inv[j]\n",
    "            prime_inv[j] = prime_inv[j] / prime ( j )\n",
    "            t[j] = ( t[j] // prime ( j ) )\n",
    "    return r\n",
    "\n",
    "def hammersley_seq_format(lBound,uBound,points=16):\n",
    "    ratio = (uBound - lBound) / 1.0\n",
    "    seq = []\n",
    "    for i in range(1,points+1):\n",
    "        val = hammersley(i)[0]*ratio + lBound\n",
    "        seq.append(val)\n",
    "    return seq"
   ]
  },
  {
   "cell_type": "markdown",
   "metadata": {},
   "source": [
    "# Generate output values\n",
    "@Parameters  \n",
    "filename: name of black box model without extension  \n",
    "variables: values of variables, in list format  \n",
    "sequence: low discrepency sequence above, in list format  \n",
    "index: index of the unfixed variable"
   ]
  },
  {
   "cell_type": "code",
   "execution_count": 4,
   "metadata": {
    "ExecuteTime": {
<<<<<<< HEAD
     "end_time": "2019-07-01T20:09:37.941819Z",
     "start_time": "2019-07-01T20:09:37.933819Z"
=======
     "end_time": "2019-06-29T15:35:26.503080Z",
     "start_time": "2019-06-29T15:35:26.494042Z"
>>>>>>> 2ab4f7e7c8d6e3d737e4e784bd71f9edd077d305
    }
   },
   "outputs": [],
   "source": [
    "def write_input(filename,input_values):\n",
    "    infile = open(filename, 'w')\n",
    "    for val in input_values:\n",
    "        infile.write(str(val)+'\\n')\n",
    "    infile.close()\n",
    "    \n",
    "def read_output(filename,output_values):\n",
    "    readfile = open(filename, 'r')\n",
    "    for line in readfile.readlines():\n",
    "        output_values.append(float(line.strip()))\n",
    "    readfile.close()\n",
    "    \n",
    "def generate_bbox_values(filename,variables,sequence,index):\n",
    "    input_filename = \"input.in\"\n",
    "    output_filename = \"output.out\"\n",
    "    output_values = []\n",
    "    input_values = []\n",
    "    for val in sequence:\n",
    "        input_copy = variables[:]\n",
    "        input_copy[index] = val\n",
    "        input_values.append(input_copy)\n",
    "        write_input(input_filename,input_copy)\n",
    "        os.system('.\\\\'+filename)\n",
    "        read_output(output_filename,output_values)\n",
    "    return output_values,input_values\n",
    "\n",
    "def check_bbox_optimal(filename,coordinate):\n",
    "    input_filename = \"input.in\"\n",
    "    output_filename = \"output.out\"\n",
    "    output_values = []\n",
    "    write_input(input_filename,coordinate)\n",
    "    os.system('.\\\\'+filename)\n",
    "    read_output(output_filename,output_values)\n",
    "    return output_values[0]"
   ]
  },
  {
   "cell_type": "markdown",
   "metadata": {},
   "source": [
    "# Regression\n",
    "Use alamopy package to get the numerical expression  \n",
    "@Parameters  \n",
    "input_values:  \n",
    "output_values:  \n",
    "lowerBound:  \n",
    "upperBound:  "
   ]
  },
  {
   "cell_type": "code",
   "execution_count": 5,
   "metadata": {
    "ExecuteTime": {
<<<<<<< HEAD
     "end_time": "2019-07-01T20:09:39.657722Z",
     "start_time": "2019-07-01T20:09:39.035635Z"
=======
     "end_time": "2019-06-29T15:35:28.041557Z",
     "start_time": "2019-06-29T15:35:27.393364Z"
>>>>>>> 2ab4f7e7c8d6e3d737e4e784bd71f9edd077d305
    }
   },
   "outputs": [],
   "source": [
    "import alamopy\n",
    "from sklearn.model_selection import train_test_split\n",
    "def call_alamopy(input_values,output_values,lowerBound,upperBound):\n",
    "    X_train,X_test,y_train,y_test=train_test_split(input_values,output_values,test_size=0.25)\n",
    "    alamo_result = alamopy.alamo(X_train,y_train,xval=X_test,zval=y_test,xmin=lowerBound,xmax=upperBound,monomialpower=(1,2),multi2power=(1,2), showalm=True)\n",
    "#     print(\"===============================================================\")\n",
    "#     print(\"ALAMO results\")\n",
    "#     print(\"===============================================================\")\n",
    "\n",
    "#     print(\"#Model expression: \",alamo_result['model'])\n",
    "#     print(\"#Rhe sum of squared residuals: \",alamo_result['ssr'])\n",
    "#     print(\"#R squared: \",alamo_result['R2'])\n",
    "#     print(\"#Root Mean Square Error: \",alamo_result['rmse'])\n",
    "#     print(\"---------------------------------------------------------------\")\n",
    "    labels = alamo_result['xlabels']\n",
    "    expr = alamo_result['f(model)']\n",
    "    return labels,expr"
   ]
  },
  {
   "cell_type": "markdown",
   "metadata": {},
   "source": [
    "# Optimization\n",
    "Call baron by pyomo to get optimal solution"
   ]
  },
  {
   "cell_type": "code",
   "execution_count": 6,
   "metadata": {
    "ExecuteTime": {
<<<<<<< HEAD
     "end_time": "2019-07-01T20:09:42.246901Z",
     "start_time": "2019-07-01T20:09:41.173229Z"
=======
     "end_time": "2019-06-29T15:35:29.434830Z",
     "start_time": "2019-06-29T15:35:28.315967Z"
>>>>>>> 2ab4f7e7c8d6e3d737e4e784bd71f9edd077d305
    }
   },
   "outputs": [],
   "source": [
    "from pyomo.environ import *\n",
    "from pyomo.opt import SolverFactory\n",
    "\n",
    "def boundary_dic(labels,startPoint,index,lb,ub):\n",
    "    lowerBound = {}\n",
    "    upperBound = {}\n",
    "    for (label,val) in zip(labels,startPoint):\n",
    "        lowerBound[label] = val\n",
    "    for (label,val) in zip(labels,startPoint):\n",
    "        upperBound[label] = val\n",
    "    lowerBound[labels[index]] = lb[index]\n",
    "    upperBound[labels[index]] = ub[index]\n",
    "    return lowerBound,upperBound\n",
    "\n",
    "def call_baron(labels,expr,lowerBound,upperBound,startPoint,index):\n",
    "    model = ConcreteModel(name='cycle')\n",
    "    lBound_dic,uBound_dic = boundary_dic(labels,startPoint,index,lowerBound,upperBound)\n",
    "    def fb(model,i):\n",
    "        return (lBound_dic[i],uBound_dic[i])\n",
    "    model.A = Set(initialize=labels)\n",
    "    model.x = Var(model.A,within=Reals,bounds=fb)\n",
    "    \n",
    "    def objrule(model):\n",
    "        var_lst = []\n",
    "        for var_name in model.x:\n",
    "            var_lst.append(model.x[var_name])\n",
    "        return expr(var_lst)\n",
    "    model.obj = Objective(rule=objrule,sense=minimize)\n",
    "    opt = SolverFactory('baron')\n",
    "    solution = opt.solve(model)\n",
    "#     solution.write()\n",
    "#     model.pprint()\n",
    "#     model.display()\n",
    "    \n",
    "    obj_point = []\n",
    "    counter = 0\n",
    "    for var_name in labels:\n",
    "        try:\n",
    "            obj_point.append(value(model.x[var_name]))\n",
    "            counter += 1\n",
    "        except:\n",
    "            obj_point.append(startPoint[counter])\n",
    "            counter += 1\n",
    "    obj_value = value(model.obj)\n",
    "    return obj_point,obj_value"
   ]
  },
  {
   "cell_type": "markdown",
   "metadata": {},
   "source": [
    "# updating step"
   ]
  },
  {
   "cell_type": "code",
<<<<<<< HEAD
   "execution_count": 11,
   "metadata": {
    "ExecuteTime": {
     "end_time": "2019-07-01T20:18:25.829863Z",
     "start_time": "2019-07-01T20:18:25.821877Z"
=======
   "execution_count": 7,
   "metadata": {
    "ExecuteTime": {
     "end_time": "2019-06-29T15:35:31.117589Z",
     "start_time": "2019-06-29T15:35:31.107587Z"
>>>>>>> 2ab4f7e7c8d6e3d737e4e784bd71f9edd077d305
    }
   },
   "outputs": [],
   "source": [
    "def variable_range(lowerBound,upperBound,startPoint,index,step=1.0):\n",
    "    new_lowerBound = startPoint[:]\n",
    "    new_upperBound = startPoint[:]\n",
    "    new_lowerBound[index] = startPoint[index] - step\n",
    "    new_upperBound[index] = startPoint[index] + step\n",
    "    return new_lowerBound,new_upperBound\n",
    "\n",
    "def update_startpoint(optimal_val,box_val,optimal_point,startPoint,index,step):\n",
    "    ratio = np.abs(optimal_val / box_val)\n",
    "    if(ratio > 0.85 and ratio < 1.5):\n",
    "        startPoint[index] = optimal_point[index]\n",
    "        step = step * 1.2\n",
    "        print(\"The point is updated\")\n",
    "        return step\n",
    "    else:\n",
    "        print(\"The point is not updated\")\n",
    "        step = step*0.85\n",
    "        return step\n",
    "    \n",
    "def check_objvalues(obj_lst,new_obj):\n",
    "    length = len(obj_lst)\n",
    "    if(length<1):\n",
    "        return 0\n",
    "    else:\n",
    "        old_obj = obj_lst[-1]\n",
    "        if(new_obj <= old_obj):\n",
    "            if(old_obj - new_obj <= 0.01):\n",
    "                return -1\n",
    "            else:\n",
    "                return 0\n",
    "        else:\n",
    "            return 1\n",
    "        "
   ]
  },
  {
   "cell_type": "markdown",
   "metadata": {},
   "source": [
    "# main function\n",
    "Integration of functions above"
   ]
  },
  {
   "cell_type": "code",
<<<<<<< HEAD
   "execution_count": 18,
   "metadata": {
    "ExecuteTime": {
     "end_time": "2019-07-01T20:27:33.775063Z",
     "start_time": "2019-07-01T20:27:33.557064Z"
=======
   "execution_count": 9,
   "metadata": {
    "ExecuteTime": {
     "end_time": "2019-06-29T15:36:48.281669Z",
     "start_time": "2019-06-29T15:36:29.628690Z"
>>>>>>> 2ab4f7e7c8d6e3d737e4e784bd71f9edd077d305
    }
   },
   "outputs": [
    {
     "name": "stdout",
     "output_type": "stream",
     "text": [
      "Blackbox Model Name:  beale\n",
      "Compilation finished\n",
      "Number of Variables:  2\n",
<<<<<<< HEAD
      "Lower Boundary:  [-5.0, 0.0]\n",
      "Upper Boundary:  [10.0, 15.0]\n",
      "Starting point is:  [2.5, 7.5]\n"
     ]
    }
   ],
   "source": [
    "import matplotlib.pyplot as plt\n",
    "blackbox_name = \"branin\"\n",
    "compileCode(blackbox_name)\n",
    "numOfVar,lowerBound,upperBound,startPoint = read_datafile(blackbox_name)\n",
    "step = 1.0\n",
    "obj_lst = []\n",
    "counter_lst = []\n",
    "counter = 0"
   ]
  },
  {
   "cell_type": "code",
   "execution_count": 20,
   "metadata": {
    "ExecuteTime": {
     "end_time": "2019-07-01T20:29:08.669347Z",
     "start_time": "2019-07-01T20:28:02.156371Z"
    }
   },
   "outputs": [
    {
     "name": "stdout",
     "output_type": "stream",
     "text": [
      "Continue update:  23.247866557433593\n",
      "The point is updated\n",
      "Continue update:  14.855844983958189\n",
      "The point is updated\n",
      "ERROR: evaluating object as numeric value: x[x1]\n",
      "        (object: <class 'pyomo.core.base.var._GeneralVarData'>)\n",
      "    No value for uninitialized NumericValue object x[x1]\n",
      "The point is updated\n",
      "Continue update:  7.671251724350157\n",
      "The point is updated\n",
      "Continue update:  5.959668623171385\n",
      "The point is updated\n",
      "Continue update:  1.6000186102530112\n",
      "The point is updated\n",
      "The point is not updated\n",
      "The point is updated\n",
      "The point is not updated\n",
      "Computation finished:  1.6000186102530072\n",
      "The point is not updated\n",
      "Computation finished:  1.6000186102530076\n",
      "Continue update:  1.275630605908752\n",
      "The point is not updated\n",
      "ERROR: evaluating object as numeric value: x[x2]\n",
      "        (object: <class 'pyomo.core.base.var._GeneralVarData'>)\n",
      "    No value for uninitialized NumericValue object x[x2]\n",
      "The point is not updated\n",
      "The point is not updated\n",
      "The point is updated\n",
      "The point is updated\n",
      "ERROR: evaluating object as numeric value: x[x1]\n",
      "        (object: <class 'pyomo.core.base.var._GeneralVarData'>)\n",
      "    No value for uninitialized NumericValue object x[x1]\n",
      "Continue update:  0.11398142911094113\n",
      "The point is not updated\n",
      "ERROR: evaluating object as numeric value: x[x2]\n",
      "        (object: <class 'pyomo.core.base.var._GeneralVarData'>)\n",
      "    No value for uninitialized NumericValue object x[x2]\n",
      "Continue update:  2.3390937865856185\n",
      "The point is not updated\n",
      "Continue update:  0.4128020383570501\n",
      "The point is updated\n",
      "ERROR: evaluating object as numeric value: x[x1]\n",
      "        (object: <class 'pyomo.core.base.var._GeneralVarData'>)\n",
      "    No value for uninitialized NumericValue object x[x1]\n",
      "ERROR: evaluating object as numeric value: x[x2]\n",
      "        (object: <class 'pyomo.core.base.var._GeneralVarData'>)\n",
      "    No value for uninitialized NumericValue object x[x2]\n",
      "The point is not updated\n",
      "Continue update:  0.37244917599299776\n",
      "The point is not updated\n",
      "ERROR: evaluating object as numeric value: x[x1]\n",
      "        (object: <class 'pyomo.core.base.var._GeneralVarData'>)\n",
      "    No value for uninitialized NumericValue object x[x1]\n",
      "The point is not updated\n",
      "Continue update:  0.3681780087163147\n",
      "The point is not updated\n",
      "ERROR: evaluating object as numeric value: x[x1]\n",
      "        (object: <class 'pyomo.core.base.var._GeneralVarData'>)\n",
      "    No value for uninitialized NumericValue object x[x1]\n",
      "ERROR: evaluating object as numeric value: x[x2]\n",
      "        (object: <class 'pyomo.core.base.var._GeneralVarData'>)\n",
      "    No value for uninitialized NumericValue object x[x2]\n",
=======
      "Lower Boundary:  [-10000.0, -10000.0]\n",
      "Upper Boundary:  [10000.0, 10000.0]\n",
      "Starting point is:  [0.0, 0.0]\n",
      "ERROR: evaluating object as numeric value: x[x2]\n",
      "        (object: <class 'pyomo.core.base.var._GeneralVarData'>)\n",
      "    No value for uninitialized NumericValue object x[x2]\n",
      "[]\n",
      "Continue update:  4.453124999999993\n",
      "The point is updated\n",
      "[4.453125]\n",
      "Continue update:  3.0671269913633767\n",
      "The point is not updated\n",
      "ERROR: evaluating object as numeric value: x[x2]\n",
      "        (object: <class 'pyomo.core.base.var._GeneralVarData'>)\n",
      "    No value for uninitialized NumericValue object x[x2]\n",
      "[4.453125, 4.387605778465845]\n",
      "Continue update:  0.8999250000000174\n",
      "The point is updated\n",
      "[4.453125, 4.387605778465845, 0.899925]\n",
      "Continue update:  -0.018531776857811634\n",
>>>>>>> 2ab4f7e7c8d6e3d737e4e784bd71f9edd077d305
      "The point is not updated\n",
      "ERROR: evaluating object as numeric value: x[x2]\n",
      "        (object: <class 'pyomo.core.base.var._GeneralVarData'>)\n",
      "    No value for uninitialized NumericValue object x[x2]\n",
<<<<<<< HEAD
      "Continue update:  0.620042289322113\n",
      "The point is not updated\n",
      "ERROR: evaluating object as numeric value: x[x1]\n",
      "        (object: <class 'pyomo.core.base.var._GeneralVarData'>)\n",
      "    No value for uninitialized NumericValue object x[x1]\n",
      "The point is not updated\n",
      "ERROR: evaluating object as numeric value: x[x2]\n",
      "        (object: <class 'pyomo.core.base.var._GeneralVarData'>)\n",
      "    No value for uninitialized NumericValue object x[x2]\n",
      "The point is updated\n",
      "ERROR: evaluating object as numeric value: x[x1]\n",
      "        (object: <class 'pyomo.core.base.var._GeneralVarData'>)\n",
      "    No value for uninitialized NumericValue object x[x1]\n",
      "The point is not updated\n",
      "ERROR: evaluating object as numeric value: x[x2]\n",
      "        (object: <class 'pyomo.core.base.var._GeneralVarData'>)\n",
      "    No value for uninitialized NumericValue object x[x2]\n",
      "The point is updated\n",
      "Continue update:  0.4019935683752607\n",
      "The point is updated\n",
      "ERROR: evaluating object as numeric value: x[x1]\n",
      "        (object: <class 'pyomo.core.base.var._GeneralVarData'>)\n",
      "    No value for uninitialized NumericValue object x[x1]\n",
      "Continue update:  0.37680370609474745\n",
      "The point is not updated\n",
      "ERROR: evaluating object as numeric value: x[x2]\n",
      "        (object: <class 'pyomo.core.base.var._GeneralVarData'>)\n",
      "    No value for uninitialized NumericValue object x[x2]\n",
      "Continue update:  0.7238297153902259\n",
      "The point is not updated\n",
      "ERROR: evaluating object as numeric value: x[x1]\n",
      "        (object: <class 'pyomo.core.base.var._GeneralVarData'>)\n",
      "    No value for uninitialized NumericValue object x[x1]\n",
      "Continue update:  0.3797203998481044\n",
      "The point is not updated\n",
      "ERROR: evaluating object as numeric value: x[x1]\n",
      "        (object: <class 'pyomo.core.base.var._GeneralVarData'>)\n",
      "    No value for uninitialized NumericValue object x[x1]\n",
      "The point is not updated\n",
      "ERROR: evaluating object as numeric value: x[x1]\n",
      "        (object: <class 'pyomo.core.base.var._GeneralVarData'>)\n",
      "    No value for uninitialized NumericValue object x[x1]\n",
      "ERROR: evaluating object as numeric value: x[x2]\n",
      "        (object: <class 'pyomo.core.base.var._GeneralVarData'>)\n",
      "    No value for uninitialized NumericValue object x[x2]\n",
      "Continue update:  0.44843347402194317\n",
=======
      "[4.453125, 4.387605778465845, 0.899925, 0.958491370239937]\n",
      "Continue update:  0.6562500000000053\n",
      "The point is updated\n",
      "[4.453125, 4.387605778465845, 0.899925, 0.958491370239937, 0.65625]\n",
      "Continue update:  -0.04800179475922648\n",
      "The point is not updated\n",
      "ERROR: evaluating object as numeric value: x[x1]\n",
      "        (object: <class 'pyomo.core.base.var._GeneralVarData'>)\n",
      "    No value for uninitialized NumericValue object x[x1]\n",
      "ERROR: evaluating object as numeric value: x[x2]\n",
      "        (object: <class 'pyomo.core.base.var._GeneralVarData'>)\n",
      "    No value for uninitialized NumericValue object x[x2]\n",
      "[4.453125, 4.387605778465845, 0.899925, 0.958491370239937, 0.65625, 0.500928092929357]\n",
      "Stop update\n",
      "The point is not updated\n",
      "[4.453125, 4.387605778465845, 0.899925, 0.958491370239937, 0.65625, 0.500928092929357]\n",
      "Continue update:  0.3724643196741176\n",
      "The point is updated\n",
      "[4.453125, 4.387605778465845, 0.899925, 0.958491370239937, 0.65625, 0.500928092929357, 0.351036778685669]\n",
      "Continue update:  0.1882721242716614\n",
>>>>>>> 2ab4f7e7c8d6e3d737e4e784bd71f9edd077d305
      "The point is updated\n",
      "The point is not updated\n",
      "ERROR: evaluating object as numeric value: x[x1]\n",
      "        (object: <class 'pyomo.core.base.var._GeneralVarData'>)\n",
      "    No value for uninitialized NumericValue object x[x1]\n",
      "Continue update:  0.3783260929933669\n",
      "The point is not updated\n",
      "ERROR: evaluating object as numeric value: x[x1]\n",
      "        (object: <class 'pyomo.core.base.var._GeneralVarData'>)\n",
      "    No value for uninitialized NumericValue object x[x1]\n",
<<<<<<< HEAD
      "The point is not updated\n",
      "Continue update:  0.3979526276545635\n",
      "The point is updated\n",
      "ERROR: evaluating object as numeric value: x[x2]\n",
      "        (object: <class 'pyomo.core.base.var._GeneralVarData'>)\n",
      "    No value for uninitialized NumericValue object x[x2]\n",
      "The point is not updated\n",
      "ERROR: evaluating object as numeric value: x[x2]\n",
      "        (object: <class 'pyomo.core.base.var._GeneralVarData'>)\n",
      "    No value for uninitialized NumericValue object x[x2]\n",
      "The point is updated\n",
      "ERROR: evaluating object as numeric value: x[x2]\n",
      "        (object: <class 'pyomo.core.base.var._GeneralVarData'>)\n",
      "    No value for uninitialized NumericValue object x[x2]\n",
=======
      "[4.453125, 4.387605778465845, 0.899925, 0.958491370239937, 0.65625, 0.500928092929357, 0.351036778685669, 0.188272124271664]\n",
      "Continue update:  0.007167474124516793\n",
>>>>>>> 2ab4f7e7c8d6e3d737e4e784bd71f9edd077d305
      "The point is not updated\n",
      "ERROR: evaluating object as numeric value: x[x2]\n",
      "        (object: <class 'pyomo.core.base.var._GeneralVarData'>)\n",
      "    No value for uninitialized NumericValue object x[x2]\n",
<<<<<<< HEAD
      "The point is updated\n",
      "ERROR: evaluating object as numeric value: x[x2]\n",
      "        (object: <class 'pyomo.core.base.var._GeneralVarData'>)\n",
      "    No value for uninitialized NumericValue object x[x2]\n",
=======
      "[4.453125, 4.387605778465845, 0.899925, 0.958491370239937, 0.65625, 0.500928092929357, 0.351036778685669, 0.188272124271664, 0.24283883994091]\n",
      "Stop update\n",
      "The point is not updated\n",
      "ERROR: evaluating object as numeric value: x[x2]\n",
      "        (object: <class 'pyomo.core.base.var._GeneralVarData'>)\n",
      "    No value for uninitialized NumericValue object x[x2]\n",
      "[4.453125, 4.387605778465845, 0.899925, 0.958491370239937, 0.65625, 0.500928092929357, 0.351036778685669, 0.188272124271664, 0.24283883994091]\n",
      "Stop update\n",
>>>>>>> 2ab4f7e7c8d6e3d737e4e784bd71f9edd077d305
      "The point is not updated\n",
      "ERROR: evaluating object as numeric value: x[x2]\n",
      "        (object: <class 'pyomo.core.base.var._GeneralVarData'>)\n",
      "    No value for uninitialized NumericValue object x[x2]\n",
<<<<<<< HEAD
      "The point is updated\n",
      "ERROR: evaluating object as numeric value: x[x2]\n",
      "        (object: <class 'pyomo.core.base.var._GeneralVarData'>)\n",
      "    No value for uninitialized NumericValue object x[x2]\n",
      "The point is not updated\n",
      "ERROR: evaluating object as numeric value: x[x2]\n",
      "        (object: <class 'pyomo.core.base.var._GeneralVarData'>)\n",
      "    No value for uninitialized NumericValue object x[x2]\n",
      "The point is updated\n",
      "The point is not updated\n",
      "ERROR: evaluating object as numeric value: x[x2]\n",
      "        (object: <class 'pyomo.core.base.var._GeneralVarData'>)\n",
      "    No value for uninitialized NumericValue object x[x2]\n",
      "The point is updated\n",
      "The point is not updated\n",
      "ERROR: evaluating object as numeric value: x[x2]\n",
      "        (object: <class 'pyomo.core.base.var._GeneralVarData'>)\n",
      "    No value for uninitialized NumericValue object x[x2]\n",
      "The point is updated\n",
      "ERROR: evaluating object as numeric value: x[x2]\n",
      "        (object: <class 'pyomo.core.base.var._GeneralVarData'>)\n",
      "    No value for uninitialized NumericValue object x[x2]\n",
      "The point is not updated\n",
      "The point is updated\n",
      "ERROR: evaluating object as numeric value: x[x2]\n",
      "        (object: <class 'pyomo.core.base.var._GeneralVarData'>)\n",
      "    No value for uninitialized NumericValue object x[x2]\n",
      "The point is not updated\n",
      "ERROR: evaluating object as numeric value: x[x2]\n",
      "        (object: <class 'pyomo.core.base.var._GeneralVarData'>)\n",
      "    No value for uninitialized NumericValue object x[x2]\n",
      "The point is updated\n",
      "ERROR: evaluating object as numeric value: x[x2]\n",
      "        (object: <class 'pyomo.core.base.var._GeneralVarData'>)\n",
      "    No value for uninitialized NumericValue object x[x2]\n",
      "The point is not updated\n",
      "ERROR: evaluating object as numeric value: x[x2]\n",
      "        (object: <class 'pyomo.core.base.var._GeneralVarData'>)\n",
      "    No value for uninitialized NumericValue object x[x2]\n",
      "The point is updated\n"
     ]
    },
    {
     "name": "stdout",
     "output_type": "stream",
     "text": [
      "ERROR: evaluating object as numeric value: x[x2]\n",
      "        (object: <class 'pyomo.core.base.var._GeneralVarData'>)\n",
      "    No value for uninitialized NumericValue object x[x2]\n",
      "The point is not updated\n",
      "ERROR: evaluating object as numeric value: x[x2]\n",
      "        (object: <class 'pyomo.core.base.var._GeneralVarData'>)\n",
      "    No value for uninitialized NumericValue object x[x2]\n",
      "The point is updated\n",
      "ERROR: evaluating object as numeric value: x[x2]\n",
      "        (object: <class 'pyomo.core.base.var._GeneralVarData'>)\n",
      "    No value for uninitialized NumericValue object x[x2]\n",
      "The point is not updated\n",
      "ERROR: evaluating object as numeric value: x[x2]\n",
      "        (object: <class 'pyomo.core.base.var._GeneralVarData'>)\n",
      "    No value for uninitialized NumericValue object x[x2]\n",
      "The point is updated\n",
      "ERROR: evaluating object as numeric value: x[x2]\n",
      "        (object: <class 'pyomo.core.base.var._GeneralVarData'>)\n",
      "    No value for uninitialized NumericValue object x[x2]\n",
      "The point is not updated\n",
      "ERROR: evaluating object as numeric value: x[x1]\n",
      "        (object: <class 'pyomo.core.base.var._GeneralVarData'>)\n",
      "    No value for uninitialized NumericValue object x[x1]\n",
      "ERROR: evaluating object as numeric value: x[x2]\n",
      "        (object: <class 'pyomo.core.base.var._GeneralVarData'>)\n",
      "    No value for uninitialized NumericValue object x[x2]\n",
=======
      "[4.453125, 4.387605778465845, 0.899925, 0.958491370239937, 0.65625, 0.500928092929357, 0.351036778685669, 0.188272124271664, 0.24283883994091]\n",
      "Continue update:  0.17848122777138806\n",
      "The point is not updated\n",
      "[4.453125, 4.387605778465845, 0.899925, 0.958491370239937, 0.65625, 0.500928092929357, 0.351036778685669, 0.188272124271664, 0.24283883994091, 0.292027895391805]\n",
      "Continue update:  0.1328907686739489\n",
      "The point is updated\n",
      "[4.453125, 4.387605778465845, 0.899925, 0.958491370239937, 0.65625, 0.500928092929357, 0.351036778685669, 0.188272124271664, 0.24283883994091, 0.292027895391805, 0.128744091995687]\n",
      "Continue update:  0.09185370992056896\n",
      "The point is updated\n",
      "[4.453125, 4.387605778465845, 0.899925, 0.958491370239937, 0.65625, 0.500928092929357, 0.351036778685669, 0.188272124271664, 0.24283883994091, 0.292027895391805, 0.128744091995687, 0.091853709920569]\n",
      "Continue update:  0.07491022139330639\n",
      "The point is updated\n",
      "[4.453125, 4.387605778465845, 0.899925, 0.958491370239937, 0.65625, 0.500928092929357, 0.351036778685669, 0.188272124271664, 0.24283883994091, 0.292027895391805, 0.128744091995687, 0.091853709920569, 0.069727285769426]\n",
      "Continue update:  0.059050782546194114\n",
>>>>>>> 2ab4f7e7c8d6e3d737e4e784bd71f9edd077d305
      "The point is updated\n",
      "ERROR: evaluating object as numeric value: x[x2]\n",
      "        (object: <class 'pyomo.core.base.var._GeneralVarData'>)\n",
      "    No value for uninitialized NumericValue object x[x2]\n",
      "The point is not updated\n",
      "The point is updated\n",
      "ERROR: evaluating object as numeric value: x[x1]\n",
      "        (object: <class 'pyomo.core.base.var._GeneralVarData'>)\n",
      "    No value for uninitialized NumericValue object x[x1]\n",
      "The point is not updated\n",
      "Computation finished:  0.39795262765456285\n",
      "ERROR: evaluating object as numeric value: x[x1]\n",
      "        (object: <class 'pyomo.core.base.var._GeneralVarData'>)\n",
      "    No value for uninitialized NumericValue object x[x1]\n",
<<<<<<< HEAD
      "The point is not updated\n",
      "ERROR: evaluating object as numeric value: x[x2]\n",
      "        (object: <class 'pyomo.core.base.var._GeneralVarData'>)\n",
      "    No value for uninitialized NumericValue object x[x2]\n",
      "The point is updated\n",
      "ERROR: evaluating object as numeric value: x[x2]\n",
      "        (object: <class 'pyomo.core.base.var._GeneralVarData'>)\n",
      "    No value for uninitialized NumericValue object x[x2]\n",
=======
      "[4.453125, 4.387605778465845, 0.899925, 0.958491370239937, 0.65625, 0.500928092929357, 0.351036778685669, 0.188272124271664, 0.24283883994091, 0.292027895391805, 0.128744091995687, 0.091853709920569, 0.069727285769426, 0.059050782546197]\n",
      "Continue update:  0.00522708518823936\n",
>>>>>>> 2ab4f7e7c8d6e3d737e4e784bd71f9edd077d305
      "The point is not updated\n",
      "ERROR: evaluating object as numeric value: x[x2]\n",
      "        (object: <class 'pyomo.core.base.var._GeneralVarData'>)\n",
      "    No value for uninitialized NumericValue object x[x2]\n",
<<<<<<< HEAD
      "The point is updated\n",
      "ERROR: evaluating object as numeric value: x[x1]\n",
      "        (object: <class 'pyomo.core.base.var._GeneralVarData'>)\n",
      "    No value for uninitialized NumericValue object x[x1]\n",
      "The point is not updated\n",
      "ERROR: evaluating object as numeric value: x[x2]\n",
      "        (object: <class 'pyomo.core.base.var._GeneralVarData'>)\n",
      "    No value for uninitialized NumericValue object x[x2]\n",
      "The point is updated\n",
      "ERROR: evaluating object as numeric value: x[x2]\n",
=======
      "[4.453125, 4.387605778465845, 0.899925, 0.958491370239937, 0.65625, 0.500928092929357, 0.351036778685669, 0.188272124271664, 0.24283883994091, 0.292027895391805, 0.128744091995687, 0.091853709920569, 0.069727285769426, 0.059050782546197, 1.023681184493663]\n",
      "Continue update:  0.07717194827991404\n",
      "The point is not updated\n",
      "ERROR: evaluating object as numeric value: x[x1]\n",
>>>>>>> 2ab4f7e7c8d6e3d737e4e784bd71f9edd077d305
      "        (object: <class 'pyomo.core.base.var._GeneralVarData'>)\n",
      "    No value for uninitialized NumericValue object x[x2]\n",
      "The point is not updated\n",
      "ERROR: evaluating object as numeric value: x[x2]\n",
      "        (object: <class 'pyomo.core.base.var._GeneralVarData'>)\n",
      "    No value for uninitialized NumericValue object x[x2]\n",
<<<<<<< HEAD
      "The point is updated\n",
      "The point is not updated\n",
      "ERROR: evaluating object as numeric value: x[x2]\n",
      "        (object: <class 'pyomo.core.base.var._GeneralVarData'>)\n",
      "    No value for uninitialized NumericValue object x[x2]\n",
      "The point is updated\n",
      "ERROR: evaluating object as numeric value: x[x1]\n",
      "        (object: <class 'pyomo.core.base.var._GeneralVarData'>)\n",
      "    No value for uninitialized NumericValue object x[x1]\n",
      "The point is not updated\n",
      "ERROR: evaluating object as numeric value: x[x2]\n",
      "        (object: <class 'pyomo.core.base.var._GeneralVarData'>)\n",
      "    No value for uninitialized NumericValue object x[x2]\n",
      "The point is updated\n"
=======
      "[4.453125, 4.387605778465845, 0.899925, 0.958491370239937, 0.65625, 0.500928092929357, 0.351036778685669, 0.188272124271664, 0.24283883994091, 0.292027895391805, 0.128744091995687, 0.091853709920569, 0.069727285769426, 0.059050782546197, 1.023681184493663, 0.151107649785244]\n",
      "Stop update\n",
      "The point is not updated\n",
      "ERROR: evaluating object as numeric value: x[x2]\n",
      "        (object: <class 'pyomo.core.base.var._GeneralVarData'>)\n",
      "    No value for uninitialized NumericValue object x[x2]\n",
      "[4.453125, 4.387605778465845, 0.899925, 0.958491370239937, 0.65625, 0.500928092929357, 0.351036778685669, 0.188272124271664, 0.24283883994091, 0.292027895391805, 0.128744091995687, 0.091853709920569, 0.069727285769426, 0.059050782546197, 1.023681184493663, 0.151107649785244]\n",
      "Continue update:  0.05974243324141936\n",
      "The point is not updated\n",
      "ERROR: evaluating object as numeric value: x[x1]\n",
      "        (object: <class 'pyomo.core.base.var._GeneralVarData'>)\n",
      "    No value for uninitialized NumericValue object x[x1]\n",
      "[4.453125, 4.387605778465845, 0.899925, 0.958491370239937, 0.65625, 0.500928092929357, 0.351036778685669, 0.188272124271664, 0.24283883994091, 0.292027895391805, 0.128744091995687, 0.091853709920569, 0.069727285769426, 0.059050782546197, 1.023681184493663, 0.151107649785244, 0.081153636374062]\n",
      "Continue update:  0.047311482054299026\n",
      "The point is updated\n",
      "[4.453125, 4.387605778465845, 0.899925, 0.958491370239937, 0.65625, 0.500928092929357, 0.351036778685669, 0.188272124271664, 0.24283883994091, 0.292027895391805, 0.128744091995687, 0.091853709920569, 0.069727285769426, 0.059050782546197, 1.023681184493663, 0.151107649785244, 0.081153636374062, 0.046194415419366]\n",
      "Computation finished:  0.03638248620094764\n"
>>>>>>> 2ab4f7e7c8d6e3d737e4e784bd71f9edd077d305
     ]
    }
   ],
   "source": [
<<<<<<< HEAD
    "for cycle in range(40):\n",
    "    for indexOfVar in range(len(startPoint)):\n",
    "        lb,ub = variable_range(lowerBound,upperBound,startPoint,indexOfVar,step)\n",
    "        var_seq = hammersley_seq_format(lb[indexOfVar],ub[indexOfVar])\n",
    "        ydata,xdata = generate_bbox_values(blackbox_name,startPoint,var_seq,indexOfVar)\n",
    "        labels,expr = call_alamopy(xdata,ydata,lowerBound,upperBound)\n",
    "        optimal_point,optimal_val = call_baron(labels,expr,lb,ub,startPoint,indexOfVar)\n",
    "        box_val = check_bbox_optimal(blackbox_name,optimal_point)\n",
=======
    "def main():\n",
    "    blackbox_name = \"beale\"\n",
    "    compileCode(blackbox_name)\n",
    "    numOfVar,lowerBound,upperBound,startPoint = read_datafile(blackbox_name)\n",
    "    step = 1.0\n",
    "    obj_lst = []\n",
    "    for cycle in range(20):\n",
    "        for indexOfVar in range(len(startPoint)):\n",
    "            lb,ub = variable_range(lowerBound,upperBound,startPoint,indexOfVar,step)\n",
    "            var_seq = hammersley_seq_format(lb[indexOfVar],ub[indexOfVar])\n",
    "            ydata,xdata = generate_bbox_values(blackbox_name,startPoint,var_seq,indexOfVar)\n",
    "            labels,expr = call_alamopy(xdata,ydata,lowerBound,upperBound)\n",
    "            optimal_point,optimal_val = call_baron(labels,expr,lb,ub,startPoint,indexOfVar)\n",
    "            box_val = check_bbox_optimal(blackbox_name,optimal_point)\n",
>>>>>>> 2ab4f7e7c8d6e3d737e4e784bd71f9edd077d305
    "\n",
    "#             print(obj_lst)\n",
    "        flag = check_objvalues(obj_lst,optimal_val)\n",
    "        if(flag == 0):\n",
    "            obj_lst.append(box_val)\n",
    "            print(\"Continue update: \",optimal_val)\n",
    "            counter_lst.append(counter)\n",
    "            counter += 16\n",
    "            pass\n",
    "        elif(flag == 1):\n",
    "#                 print(\"Stop update\")\n",
    "            pass\n",
    "        else:\n",
    "            obj_lst.append(box_val)\n",
    "            print(\"Computation finished: \",optimal_val)\n",
    "            counter_lst.append(counter)\n",
    "            counter += 16\n",
    "            break\n",
    "\n",
    "        step = update_startpoint(optimal_val,box_val,optimal_point,startPoint,indexOfVar,step)"
   ]
  },
  {
   "cell_type": "code",
   "execution_count": 27,
   "metadata": {
    "ExecuteTime": {
     "end_time": "2019-07-01T20:34:11.801991Z",
     "start_time": "2019-07-01T20:34:11.676996Z"
    }
   },
   "outputs": [
    {
     "data": {
      "image/png": "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\n",
      "text/plain": [
       "<Figure size 432x288 with 1 Axes>"
      ]
     },
     "metadata": {
      "needs_background": "light"
     },
     "output_type": "display_data"
    }
   ],
   "source": [
    "plt.plot(counter_lst,obj_lst,'-o')\n",
    "plt.xlabel(\"Number of calls\")\n",
    "plt.ylabel(\"Minimum\")\n",
    "plt.title(blackbox_name)\n",
    "plt.savefig(\"branin.png\")"
   ]
  }
 ],
 "metadata": {
  "kernelspec": {
   "display_name": "Python 3",
   "language": "python",
   "name": "python3"
  },
  "language_info": {
   "codemirror_mode": {
    "name": "ipython",
    "version": 3
   },
   "file_extension": ".py",
   "mimetype": "text/x-python",
   "name": "python",
   "nbconvert_exporter": "python",
   "pygments_lexer": "ipython3",
   "version": "3.7.0"
  },
  "toc": {
   "base_numbering": 1,
   "nav_menu": {},
   "number_sections": true,
   "sideBar": true,
   "skip_h1_title": false,
   "title_cell": "Table of Contents",
   "title_sidebar": "Contents",
   "toc_cell": false,
   "toc_position": {},
   "toc_section_display": true,
   "toc_window_display": false
  }
 },
 "nbformat": 4,
 "nbformat_minor": 2
}
