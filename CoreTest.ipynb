{
 "cells": [
  {
   "cell_type": "markdown",
   "metadata": {},
   "source": [
    "# Compilation\n",
    "Compile destination C file.  \n",
    "Input: name of file without extension format\n",
    "Output: finished / failed"
   ]
  },
  {
   "cell_type": "code",
   "execution_count": 1,
   "metadata": {
    "ExecuteTime": {
     "end_time": "2019-07-17T19:39:42.344953Z",
     "start_time": "2019-07-17T19:39:42.333951Z"
    }
   },
   "outputs": [],
   "source": [
    "import os\n",
    "import sys\n",
    "def compileCode(filename):\n",
    "    os.system('gcc source_princetonlibgloballib/'+filename+'.c -lm -o '+filename)\n",
    "    after_name = filename+\".exe\"\n",
    "    print(\"Blackbox Model Name: \",filename)\n",
    "    if(os.path.exists(after_name)):\n",
    "        print(\"Compilation finished\")\n",
    "    else:\n",
    "        print(\"Compilation failed\")"
   ]
  },
  {
   "cell_type": "markdown",
   "metadata": {},
   "source": [
    "# Read boundaries, starting points and number of variables\n",
    "Read parameters from files in problemdata/ directory  \n",
    "input: data file name without extension format\n",
    "output: number of variables, lower bound, upper bound and starting point"
   ]
  },
  {
   "cell_type": "code",
   "execution_count": 2,
   "metadata": {
    "ExecuteTime": {
     "end_time": "2019-07-17T19:39:53.988702Z",
     "start_time": "2019-07-17T19:39:53.964702Z"
    }
   },
   "outputs": [],
   "source": [
    "def read_datafile(filename):\n",
    "    numOfVar = 0\n",
    "    lowBound = []\n",
    "    upBound = []\n",
    "    startPoint = []\n",
    "    \n",
    "    infile = open(\"problemdata/\"+filename+\".problem.data\",'r')\n",
    "    lines = infile.readlines()\n",
    "    # The first line\n",
    "    for num in lines[0].split():\n",
    "        numOfVar = int(num.strip())\n",
    "    # The second line\n",
    "    for i in lines[1].split():\n",
    "        lowBound.append(float(i.strip()))\n",
    "    # The third line\n",
    "    for j in lines[2].split():\n",
    "        upBound.append(float(j.strip()))\n",
    "    # The fourth line\n",
    "    for k in lines[3].split():\n",
    "        startPoint.append(float(k.strip()))\n",
    "    infile.close()\n",
    "    print(\"Number of Variables: \",numOfVar)\n",
    "    print(\"Lower Boundary: \",lowBound)\n",
    "    print(\"Upper Boundary: \",upBound)\n",
    "    print(\"Starting point is: \",startPoint)\n",
    "    return numOfVar,lowBound,upBound,startPoint"
   ]
  },
  {
   "cell_type": "markdown",
   "metadata": {},
   "source": [
    "# Sampling\n",
    "## Hammersley sequence\n",
    "Generate input values according to Hammersley sequence which is a classical low discrepency sequence making points spread evenly in multi-dimentional space  \n",
    "@Parameters:  \n",
    "Input, integer I, the index of the element of the sequence.  0 <= I.    \n",
    "Input, integer M, the spatial dimension.  1 <= M <= 100.  \n",
    "Input, integer N, the \"base\" for the first component.   1 <= N.  \n",
    "Output, real R(M), the element of the sequence with index I."
   ]
  },
  {
   "cell_type": "markdown",
   "metadata": {},
   "source": [
    "## Van der Corput sequence"
   ]
  },
  {
   "cell_type": "markdown",
   "metadata": {},
   "source": [
    "## The Halton Quasi Monte Carlo (QMC) Sequence\n",
    "\n",
    "Parameters:\n",
    "    Input, integer I, the index of the element of the sequence.  \n",
    "    0 <= I.  \n",
    "    Input, integer M, the spatial dimension.  \n",
    "    1 <= M <= 1600.  \n",
    "    Output, real R(M), the element of the sequence with index I."
   ]
  },
  {
   "cell_type": "markdown",
   "metadata": {},
   "source": [
    "## Latin Random Squares in M dimensions"
   ]
  },
  {
   "cell_type": "markdown",
   "metadata": {},
   "source": [
    "# Generate output values\n",
    "@Parameters  \n",
    "filename: name of black box model without extension  \n",
    "variables: values of variables, in list format  \n",
    "sequence: low discrepency sequence above, in list format  \n",
    "index: index of the unfixed variable"
   ]
  },
  {
   "cell_type": "code",
   "execution_count": 5,
   "metadata": {
    "ExecuteTime": {
     "end_time": "2019-07-17T19:40:50.077244Z",
     "start_time": "2019-07-17T19:40:50.057241Z"
    }
   },
   "outputs": [],
   "source": [
    "def write_input(filename,input_values):\n",
    "    infile = open(filename, 'w')\n",
    "    for val in input_values:\n",
    "        infile.write(str(val)+'\\n')\n",
    "    infile.close()\n",
    "def read_output(filename,output_values):\n",
    "    readfile = open(filename, 'r')\n",
    "    for line in readfile.readlines():\n",
    "        output_values.append(float(line.strip()))\n",
    "    readfile.close()\n",
    "def generate_bbox_values(filename,variables,sequence,index):\n",
    "    input_filename = \"input.in\"\n",
    "    output_filename = \"output.out\"\n",
    "    output_values = []\n",
    "    for val in sequence:\n",
    "        input_copy = variables[:]\n",
    "        input_copy[index] = val\n",
    "        write_input(input_filename,input_copy)\n",
    "        os.system('.\\\\'+filename)\n",
    "        read_output(output_filename,output_values)\n",
    "    return output_values\n",
    "\n",
    "def check_bbox_optimal(filename,coordinate):\n",
    "    input_filename = \"input.in\"\n",
    "    output_filename = \"output.out\"\n",
    "    output_values = []\n",
    "    write_input(input_filename,coordinate)\n",
    "    os.system('.\\\\'+filename)\n",
    "    read_output(output_filename,output_values)\n",
    "    return output_values[0]"
   ]
  },
  {
   "cell_type": "markdown",
   "metadata": {},
   "source": [
    "# Regression\n",
    "Use alamopy package to get the numerical expression  \n",
    "@Parameters  \n",
    "input_values:  \n",
    "output_values:  \n",
    "lowerBound: only a number  \n",
    "upperBound: same as above "
   ]
  },
  {
   "cell_type": "code",
   "execution_count": 6,
   "metadata": {
    "ExecuteTime": {
     "end_time": "2019-07-17T19:41:26.135894Z",
     "start_time": "2019-07-17T19:41:21.914823Z"
    }
   },
   "outputs": [],
   "source": [
    "import alamopy\n",
    "from sklearn.model_selection import train_test_split\n",
    "def call_alamopy(input_values,output_values,lowerBound,upperBound):\n",
    "    X_train,X_test,y_train,y_test=train_test_split(input_values,output_values,test_size=0.25)\n",
    "    X_test = test_reformat(X_test)\n",
    "#     print(\"X_train\",X_train)\n",
    "#     print(\"X_test\",X_test)\n",
    "#     print(\"y_train\",y_train)\n",
    "#     print(\"y_test\",y_test)\n",
    "    alamo_result = alamopy.alamo(xdata=X_train,zdata=y_train,xval=X_test,zval=y_test,xmin=lowerBound,xmax=upperBound,monomialpower=(1,2),multi2power=(1,2))\n",
    "#     print(\"===============================================================\")\n",
    "#     print(\"ALAMO results\")\n",
    "#     print(\"===============================================================\")\n",
    "#     print(\"#Model expression: \",alamo_result['model'])\n",
    "#     print(\"#Rhe sum of squared residuals: \",alamo_result['ssr'])\n",
    "#     print(\"#R squared: \",alamo_result['R2'])\n",
    "#     print(\"#Root Mean Square Error: \",alamo_result['rmse'])\n",
    "#     print(\"---------------------------------------------------------------\")\n",
    "    labels = alamo_result['xlabels']\n",
    "    expr = alamo_result['f(model)']\n",
    "    return labels,expr\n",
    "def test_reformat(x_test):\n",
    "    test_x = []\n",
    "    for ele in x_test:\n",
    "        test_x.append([ele])\n",
    "    return test_x"
   ]
  },
  {
   "cell_type": "markdown",
   "metadata": {},
   "source": [
    "# Optimization\n",
    "Call baron by pyomo to get optimal solution"
   ]
  },
  {
   "cell_type": "code",
   "execution_count": 8,
   "metadata": {
    "ExecuteTime": {
     "end_time": "2019-07-17T19:42:28.331437Z",
     "start_time": "2019-07-17T19:42:26.039336Z"
    }
   },
   "outputs": [],
   "source": [
    "from pyomo.environ import *\n",
    "from pyomo.opt import SolverFactory\n",
    "def boundary_dic(labels,startPoint,index,lb,ub):\n",
    "    lowerBound = {}\n",
    "    upperBound = {}\n",
    "#     for (label,val) in zip(labels,startPoint):\n",
    "#         lowerBound[label] = val\n",
    "#     for (label,val) in zip(labels,startPoint):\n",
    "#         upperBound[label] = val\n",
    "    lowerBound[labels[0]] = lb[index]\n",
    "    upperBound[labels[0]] = ub[index]\n",
    "    return lowerBound,upperBound\n",
    "\n",
    "def call_baron(labels,expr,lowerBound,upperBound,startPoint,index):\n",
    "    model = ConcreteModel(name='cycle')\n",
    "    lBound_dic,uBound_dic = boundary_dic(labels,startPoint,index,lowerBound,upperBound)\n",
    "    def fb(model,i):\n",
    "        return (lBound_dic[i],uBound_dic[i])\n",
    "    model.A = Set(initialize=labels)\n",
    "    model.x = Var(model.A,within=Reals,bounds=fb)\n",
    "    \n",
    "    def objrule(model):\n",
    "        var_lst = []\n",
    "        for var_name in model.x:\n",
    "            var_lst.append(model.x[var_name])\n",
    "        return expr(var_lst)\n",
    "    model.obj = Objective(rule=objrule,sense=minimize)\n",
    "    opt = SolverFactory('baron')\n",
    "    solution = opt.solve(model)\n",
    "#     solution.write()\n",
    "#     model.pprint()\n",
    "#     model.display()\n",
    "    \n",
    "    obj_point = startPoint\n",
    "    try:\n",
    "        obj_point[index] = value(model.x[labels[0]])\n",
    "        # print(value(model.x[labels[index]]))\n",
    "    except:\n",
    "        obj_point = startPoint\n",
    "    obj_value = value(model.obj)\n",
    "    return obj_point,obj_value"
   ]
  },
  {
   "cell_type": "markdown",
   "metadata": {},
   "source": [
    "# updating step"
   ]
  },
  {
   "cell_type": "code",
   "execution_count": 11,
   "metadata": {
    "ExecuteTime": {
     "end_time": "2019-07-17T19:43:20.469717Z",
     "start_time": "2019-07-17T19:43:20.445706Z"
    }
   },
   "outputs": [],
   "source": [
    "def update_boundary(lowerBound, upperBound, startPoint, index, radius):\n",
    "    new_lb = startPoint[:]\n",
    "    new_ub = startPoint[:]\n",
    "    # check if boundary after modification will be out of boundary\n",
    "    if((startPoint[index] - radius) < lowerBound[index]):\n",
    "        new_lb[index] = lowerBound[index]\n",
    "    else:\n",
    "        new_lb[index] = startPoint[index] - radius\n",
    "    if((startPoint[index] + radius) > upperBound[index]):\n",
    "        new_ub[index] = upperBound[index]\n",
    "    else:\n",
    "        new_ub[index] = startPoint[index] + radius\n",
    "    return new_lb, new_ub\n",
    "\n",
    "def update_status(optimal_val,box_val,optimal_point,startPoint,index,obj_lst,counter,counter_lst):\n",
    "    if(box_val==0):\n",
    "        box_val += 1e-5\n",
    "    ratio = optimal_val / box_val\n",
    "    if(ratio > 0.5 and ratio < 2):\n",
    "        startPoint[index] = optimal_point[index]\n",
    "        flag = 1.0\n",
    "        # print(\"The point is updated\")\n",
    "        if(len(obj_lst)<1):\n",
    "            obj_lst.append(box_val)\n",
    "            counter_lst.append(counter)\n",
    "            print(\"New optimal value is found: \",box_val)\n",
    "        else:\n",
    "            if(obj_lst[-1] > box_val):\n",
    "                obj_lst.append(box_val)\n",
    "                counter_lst.append(counter)\n",
    "                print(\"New optimal value is found: \",box_val)\n",
    "        if(len(obj_lst)>1 and (obj_lst[-2]-obj_lst[-1]<1e-5)):\n",
    "            flag = \"end\"\n",
    "    \n",
    "        return flag\n",
    "    else:\n",
    "        # print(\"The point is not updated\")\n",
    "        flag = -1.0\n",
    "        return flag\n",
    "    \n",
    "def update_radius(flag,radius,obj_lst):\n",
    "    # box value does not match, decrease search radius\n",
    "    if(flag == -1):\n",
    "        radius = radius * 0.8\n",
    "    # box value matches, increase search radius\n",
    "    elif(flag == 1):\n",
    "        if(len(obj_lst)>1 and obj_lst[-2]/obj_lst[-1]<10):\n",
    "            radius = radius * 2\n",
    "        elif(len(obj_lst)>1 and obj_lst[-2]/obj_lst[-1]>10):\n",
    "            radius = radius * 1.2\n",
    "        else:\n",
    "            radius = radius * 1.5\n",
    "    else:\n",
    "        pass\n",
    "    return radius\n"
   ]
  },
  {
   "cell_type": "markdown",
   "metadata": {},
   "source": [
    "# Outport and plot"
   ]
  },
  {
   "cell_type": "code",
   "execution_count": 14,
   "metadata": {
    "ExecuteTime": {
     "end_time": "2019-07-17T19:44:10.279703Z",
     "start_time": "2019-07-17T19:44:10.259691Z"
    }
   },
   "outputs": [],
   "source": [
    "import matplotlib.pyplot as plt\n",
    "def make_plot(values, calls, name):\n",
    "    print(\"Optimal values: \",values)\n",
    "    print(\"Number of calls: \", calls)\n",
    "    plt.plot(calls, values, '-o')\n",
    "    plt.xlabel(\"Number of calls\")\n",
    "    plt.ylabel(\"Optimal values\")\n",
    "    plt.title(name)\n",
    "    plt.savefig(\"plots\\\\\"+name+\".png\")\n",
    "    print(\"Plot of model \"+ name +\" is saved\")\n",
    "    \n",
    "from pandas import DataFrame\n",
    "import csv\n",
    "def make_csv(name,values,calls,time,points,cycle):\n",
    "    csvfile = open('experimentData.csv','a+',newline='')\n",
    "    fieldsnames = ['model_name','time','cycle','values','calls','point']\n",
    "    # writer = csv.writer(csvfile,delimiter=',', quotechar='\"', quoting=csv.QUOTE_MINIMAL)\n",
    "    writer = csv.DictWriter(csvfile,fieldnames=fieldsnames)\n",
    "    # values = list_int2str(values)\n",
    "    # calls = list_int2str(calls)\n",
    "    # writer.writerow([name,calls[-1]]+values)\n",
    "    if(len(points)>0):\n",
    "        writer.writerow({\n",
    "            'model_name':name,\n",
    "            'time':time,\n",
    "            'cycle':cycle,\n",
    "            'values':values[-1],\n",
    "            'calls':calls[-1],\n",
    "            'point':points[-1]\n",
    "        })\n",
    "    else:\n",
    "        writer.writerow({\n",
    "            'model_name':name,\n",
    "            'time':time,\n",
    "            'cycle':cycle,\n",
    "            'values':values[-1],\n",
    "            'calls':calls[-1]\n",
    "        })\n",
    "    csvfile.close()\n",
    "\n",
    "def list_int2str(lst):\n",
    "    temp = []\n",
    "    for i in range(len(lst)):\n",
    "        temp.append(str(lst[i]))\n",
    "    return temp    "
   ]
  },
  {
   "cell_type": "markdown",
   "metadata": {},
   "source": [
    "# Core Algorithms"
   ]
  },
  {
   "cell_type": "markdown",
   "metadata": {},
   "source": [
    "## Coordinate Search"
   ]
  },
  {
   "cell_type": "code",
   "execution_count": 56,
   "metadata": {
    "ExecuteTime": {
     "end_time": "2019-07-17T21:07:26.040396Z",
     "start_time": "2019-07-17T21:07:26.024439Z"
    }
   },
   "outputs": [],
   "source": [
    "import random\n",
    "def coordinate_search(cycles,startPoint, lowerBound, upperBound):\n",
    "    # Initialization\n",
    "    radius = 1.0\n",
    "    counter = 0\n",
    "    obj_lst = []\n",
    "    counter_lst = []\n",
    "    optimal_point_lst = []\n",
    "    for cycle in range(cycles):\n",
    "        print(\"The cycle: \", cycle)\n",
    "        shuffle_order = list(range(len(startPoint)))\n",
    "        random.shuffle(shuffle_order)\n",
    "        for indexOfVar in shuffle_order:\n",
    "            # update boundary\n",
    "            lb,ub = update_boundary(lowerBound,upperBound,startPoint,indexOfVar,radius)\n",
    "            # generate sampling points sequence\n",
    "#             Xdata = van_der_corput(lb[indexOfVar],ub[indexOfVar],20)\n",
    "            Xdata = halton_sequence(lb[indexOfVar],ub[indexOfVar],20)\n",
    "            # generate black box model values\n",
    "            ydata = generate_bbox_values(compileFile,startPoint,Xdata,indexOfVar)\n",
    "            # call alamopy to generate expression and labels of variables\n",
    "            labels,expr = call_alamopy(Xdata,ydata,lb[indexOfVar],ub[indexOfVar])\n",
    "            # call baron to optimize the function and see where do we get the opt value\n",
    "            optimal_point,optimal_val = call_baron(labels,expr,lb,ub,startPoint,indexOfVar)\n",
    "            optimal_point_lst.append(optimal_point)\n",
    "            # check the qualification of regression\n",
    "            box_val = check_bbox_optimal(compileFile,optimal_point)\n",
    "            # update counter & counter list\n",
    "            counter += 20\n",
    "            # update flag status\n",
    "            flag = update_status(optimal_val,box_val,optimal_point,startPoint,indexOfVar,obj_lst,counter,counter_lst)\n",
    "            if(flag == \"end\"):\n",
    "                print(\"Optimal value is found within requested iterations\")\n",
    "                return obj_lst, counter_lst,optimal_point_lst, cycle+1\n",
    "            # update search radius\n",
    "            radius = update_radius(flag, radius,obj_lst)\n",
    "    return obj_lst, counter_lst, optimal_point_lst,cycles"
   ]
  },
  {
   "cell_type": "markdown",
   "metadata": {},
   "source": [
    "## Block coordinate search"
   ]
  },
  {
   "cell_type": "code",
   "execution_count": null,
   "metadata": {},
   "outputs": [],
   "source": []
  },
  {
   "cell_type": "markdown",
   "metadata": {},
   "source": [
    "# main function\n",
    "Integration of functions above"
   ]
  },
  {
   "cell_type": "code",
   "execution_count": 58,
   "metadata": {
    "ExecuteTime": {
     "end_time": "2019-07-17T21:08:59.489717Z",
     "start_time": "2019-07-17T21:08:18.845730Z"
    }
   },
   "outputs": [
    {
     "name": "stdout",
     "output_type": "stream",
     "text": [
      "Blackbox Model Name:  branin\n",
      "Compilation finished\n",
      "Number of Variables:  2\n",
      "Lower Boundary:  [-5.0, 0.0]\n",
      "Upper Boundary:  [10.0, 15.0]\n",
      "Starting point is:  [2.5, 7.5]\n",
      "The cycle:  0\n",
      "Calling ALAMO now:\n",
      "New optimal value is found:  15.78702362332726\n",
      "Calling ALAMO now:\n",
      "The cycle:  1\n",
      "Calling ALAMO now:\n",
      "New optimal value is found:  5.90420310447853\n",
      "Calling ALAMO now:\n",
      "The cycle:  2\n",
      "Calling ALAMO now:\n",
      "Calling ALAMO now:\n",
      "New optimal value is found:  2.976232296017698\n",
      "The cycle:  3\n",
      "Calling ALAMO now:\n",
      "New optimal value is found:  1.233809443969236\n",
      "Calling ALAMO now:\n",
      "The cycle:  4\n",
      "Calling ALAMO now:\n",
      "Calling ALAMO now:\n",
      "The cycle:  5\n",
      "Calling ALAMO now:\n",
      "Calling ALAMO now:\n",
      "The cycle:  6\n",
      "Calling ALAMO now:\n",
      "Calling ALAMO now:\n",
      "The cycle:  7\n",
      "Calling ALAMO now:\n",
      "Calling ALAMO now:\n",
      "The cycle:  8\n",
      "Calling ALAMO now:\n",
      "Calling ALAMO now:\n",
      "The cycle:  9\n",
      "Calling ALAMO now:\n",
      "Calling ALAMO now:\n"
     ]
    }
   ],
   "source": [
    "compileFile = \"branin\"\n",
    "cycles = 10\n",
    "compileCode(compileFile)\n",
    "numOfVar, lowerBound, upperBound, startPoint = read_datafile(compileFile)\n",
    "values, calls, point_lst, cycle = coordinate_search(cycles, startPoint, lowerBound, upperBound)"
   ]
  },
  {
   "cell_type": "code",
   "execution_count": 61,
   "metadata": {
    "ExecuteTime": {
     "end_time": "2019-07-17T21:09:43.420955Z",
     "start_time": "2019-07-17T21:09:43.163953Z"
    }
   },
   "outputs": [
    {
     "name": "stdout",
     "output_type": "stream",
     "text": [
      "[15.78702362332726, 5.90420310447853, 2.976232296017698, 1.233809443969236]\n"
     ]
    },
    {
     "data": {
      "image/png": "[encoded data removed]",
      "text/plain": [
       "<Figure size 432x288 with 1 Axes>"
      ]
     },
     "metadata": {
      "needs_background": "light"
     },
     "output_type": "display_data"
    }
   ],
   "source": [
    "print(values)\n",
    "plt.plot(calls, values, '-o')\n",
    "plt.xlabel(\"Number of calls\")\n",
    "plt.ylabel(\"Optimal values\")\n",
    "plt.show()"
   ]
  }
 ],
 "metadata": {
  "kernelspec": {
   "display_name": "Python 3",
   "language": "python",
   "name": "python3"
  },
  "language_info": {
   "codemirror_mode": {
    "name": "ipython",
    "version": 3
   },
   "file_extension": ".py",
   "mimetype": "text/x-python",
   "name": "python",
   "nbconvert_exporter": "python",
   "pygments_lexer": "ipython3",
   "version": "3.7.0"
  },
  "toc": {
   "base_numbering": 1,
   "nav_menu": {},
   "number_sections": true,
   "sideBar": true,
   "skip_h1_title": false,
   "title_cell": "Table of Contents",
   "title_sidebar": "Contents",
   "toc_cell": false,
   "toc_position": {},
   "toc_section_display": true,
   "toc_window_display": false
  }
 },
 "nbformat": 4,
 "nbformat_minor": 2
}
