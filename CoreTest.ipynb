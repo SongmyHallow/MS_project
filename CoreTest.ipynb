{
 "cells": [
  {
   "cell_type": "markdown",
   "metadata": {},
   "source": [
    "# Compilation\n",
    "Compile destination C file.  \n",
    "Input: name of file without extension format\n",
    "Output: finished / failed"
   ]
  },
  {
   "cell_type": "code",
   "execution_count": 63,
   "metadata": {
    "ExecuteTime": {
     "end_time": "2019-06-28T18:54:27.408272Z",
     "start_time": "2019-06-28T18:54:27.398283Z"
    }
   },
   "outputs": [],
   "source": [
    "import os\n",
    "import sys\n",
    "def compileCode(filename):\n",
    "    os.system('gcc source_princetonlibgloballib/'+filename+'.c -lm -o '+filename)\n",
    "    after_name = filename+\".exe\"\n",
    "    print(\"Blackbox Model Name: \",filename)\n",
    "    if(os.path.exists(after_name)):\n",
    "        print(\"Compilation finished\")\n",
    "    else:\n",
    "        print(\"Compilation failed\")"
   ]
  },
  {
   "cell_type": "markdown",
   "metadata": {},
   "source": [
    "# Read boundaries, starting points and number of variables\n",
    "Read parameters from files in problemdata/ directory  \n",
    "input: data file name without extension format\n",
    "output: number of variables, lower bound, upper bound and starting point"
   ]
  },
  {
   "cell_type": "code",
   "execution_count": 64,
   "metadata": {
    "ExecuteTime": {
     "end_time": "2019-06-28T18:54:28.703688Z",
     "start_time": "2019-06-28T18:54:28.684720Z"
    }
   },
   "outputs": [],
   "source": [
    "# read data file to get values of number of vars, boundaries nad starting points\n",
    "\n",
    "def read_datafile(filename):\n",
    "    numOfVar = 0\n",
    "    lowBound = []\n",
    "    upBound = []\n",
    "    startPoint = []\n",
    "    \n",
    "    infile = open(\"problemdata/\"+filename+\".problem.data\",'r')\n",
    "    lines = infile.readlines()\n",
    "    # The first line\n",
    "    for num in lines[0].split():\n",
    "        numOfVar = int(num.strip())\n",
    "    # The second line\n",
    "    for i in lines[1].split():\n",
    "        lowBound.append(float(i.strip()))\n",
    "    # The third line\n",
    "    for j in lines[2].split():\n",
    "        upBound.append(float(j.strip()))\n",
    "    # The fourth line\n",
    "    for k in lines[3].split():\n",
    "        startPoint.append(float(k.strip()))\n",
    "    infile.close()\n",
    "    print(\"Number of Variables: \",numOfVar)\n",
    "    print(\"Lower Boundary: \",lowerBound)\n",
    "    print(\"Upper Boundary: \",upperBound)\n",
    "    print(\"Starting point is: \",startPoint)\n",
    "    return numOfVar,lowBound,upBound,startPoint"
   ]
  },
  {
   "cell_type": "markdown",
   "metadata": {},
   "source": [
    "# Sampling\n",
    "## Hammersley sequence\n",
    "Generate input values according to Hammersley sequence which is a classical low discrepency sequence making points spread evenly in multi-dimentional space  \n",
    "@Parameters:  \n",
    "Input, integer I, the index of the element of the sequence.  0 <= I.    \n",
    "Input, integer M, the spatial dimension.  1 <= M <= 100.  \n",
    "Input, integer N, the \"base\" for the first component.   1 <= N.  \n",
    "Output, real R(M), the element of the sequence with index I."
   ]
  },
  {
   "cell_type": "code",
   "execution_count": 30,
   "metadata": {
    "ExecuteTime": {
     "end_time": "2019-06-28T15:04:12.310655Z",
     "start_time": "2019-06-28T15:04:12.293723Z"
    }
   },
   "outputs": [],
   "source": [
    "import numpy as np\n",
    "def hammersley (i,m=1,n=16):\n",
    "    i = int ( i )\n",
    "    t = np.ones ( m - 1 )\n",
    "    t = i * t\n",
    "#\n",
    "#  Carry out the computation.\n",
    "#\n",
    "    prime_inv = np.zeros ( m - 1 )\n",
    "    for j in range ( 0, m - 1 ):\n",
    "        prime_inv[j] = 1.0 / float ( prime ( j ) )\n",
    "    r = np.zeros ( m )\n",
    "    r[0] = float ( i % ( n + 1 ) ) / float ( n )\n",
    "    while ( 0 < np.sum ( t ) ):\n",
    "        for j in range ( 0, m - 1 ):\n",
    "            d = ( t[j] % prime ( j ) )\n",
    "            r[j+1] = r[j+1] + float ( d ) * prime_inv[j]\n",
    "            prime_inv[j] = prime_inv[j] / prime ( j )\n",
    "            t[j] = ( t[j] // prime ( j ) )\n",
    "    return r\n",
    "\n",
    "def hammersley_seq_format(lBound,uBound,points=16):\n",
    "    ratio = (uBound - lBound) / 1.0\n",
    "    seq = []\n",
    "    for i in range(1,points+1):\n",
    "        val = hammersley(i)[0]*ratio + lBound\n",
    "        seq.append(val)\n",
    "    return seq"
   ]
  },
  {
   "cell_type": "markdown",
   "metadata": {},
   "source": [
    "# Generate output values\n",
    "@Parameters  \n",
    "filename: name of black box model without extension  \n",
    "variables: values of variables, in list format  \n",
    "sequence: low discrepency sequence above, in list format  \n",
    "index: index of the unfixed variable"
   ]
  },
  {
   "cell_type": "code",
   "execution_count": 119,
   "metadata": {
    "ExecuteTime": {
     "end_time": "2019-06-28T19:45:57.118653Z",
     "start_time": "2019-06-28T19:45:57.089683Z"
    }
   },
   "outputs": [],
   "source": [
    "def write_input(filename,input_values):\n",
    "    infile = open(filename, 'w')\n",
    "    for val in input_values:\n",
    "        infile.write(str(val)+'\\n')\n",
    "    infile.close()\n",
    "    \n",
    "def read_output(filename,output_values):\n",
    "    readfile = open(filename, 'r')\n",
    "    for line in readfile.readlines():\n",
    "        output_values.append(float(line.strip()))\n",
    "    readfile.close()\n",
    "    \n",
    "def generate_bbox_values(filename,variables,sequence,index):\n",
    "    input_filename = \"input.in\"\n",
    "    output_filename = \"output.out\"\n",
    "    output_values = []\n",
    "    input_values = []\n",
    "    for val in sequence:\n",
    "        input_copy = variables[:]\n",
    "        input_copy[index] = val\n",
    "        input_values.append(input_copy)\n",
    "        write_input(input_filename,input_copy)\n",
    "        os.system('.\\\\'+filename)\n",
    "        read_output(output_filename,output_values)\n",
    "    return output_values,input_values\n",
    "\n",
    "def check_bbox_optimal(filename,coordinate):\n",
    "    input_filename = \"input.in\"\n",
    "    output_filename = \"output.out\"\n",
    "    output_values = []\n",
    "    write_input(input_filename,coordinate)\n",
    "    os.system('.\\\\'+filename)\n",
    "    read_output(output_filename,output_values)\n",
    "    return output_values[0]"
   ]
  },
  {
   "cell_type": "markdown",
   "metadata": {},
   "source": [
    "# Regression\n",
    "Use alamopy package to get the numerical expression  \n",
    "@Parameters  \n",
    "input_values:  \n",
    "output_values:  \n",
    "lowerBound:  \n",
    "upperBound:  "
   ]
  },
  {
   "cell_type": "code",
   "execution_count": 83,
   "metadata": {
    "ExecuteTime": {
     "end_time": "2019-06-28T19:17:30.785796Z",
     "start_time": "2019-06-28T19:17:30.756799Z"
    }
   },
   "outputs": [],
   "source": [
    "import alamopy\n",
    "from sklearn.model_selection import train_test_split\n",
    "def call_alamopy(input_values,output_values,lowerBound,upperBound):\n",
    "    X_train,X_test,y_train,y_test=train_test_split(input_values,output_values,test_size=0.25)\n",
    "    print(lowerBound,upperBound)\n",
    "    alamo_result = alamopy.alamo(X_train,y_train,xval=X_test,zval=y_test,xmin=lowerBound,xmax=upperBound,monomialpower=(1,2),multi2power=(1,2), showalm=True)\n",
    "    print(\"===============================================================\")\n",
    "    print(\"ALAMO results\")\n",
    "    print(\"===============================================================\")\n",
    "\n",
    "    print(\"#Model expression: \",alamo_result['model'])\n",
    "    print(\"#Rhe sum of squared residuals: \",alamo_result['ssr'])\n",
    "    print(\"#R squared: \",alamo_result['R2'])\n",
    "    print(\"#Root Mean Square Error: \",alamo_result['rmse'])\n",
    "    print(\"---------------------------------------------------------------\")\n",
    "    labels = alamo_result['xlabels']\n",
    "    expr = alamo_result['f(model)']\n",
    "    return labels,expr"
   ]
  },
  {
   "cell_type": "markdown",
   "metadata": {},
   "source": [
    "# Optimization\n",
    "Call baron by pyomo to get optimal solution"
   ]
  },
  {
   "cell_type": "code",
   "execution_count": 126,
   "metadata": {
    "ExecuteTime": {
     "end_time": "2019-06-28T19:51:04.816198Z",
     "start_time": "2019-06-28T19:51:04.790256Z"
    }
   },
   "outputs": [],
   "source": [
    "from pyomo.environ import *\n",
    "from pyomo.opt import SolverFactory\n",
    "\n",
    "def boundary_dic(labels,startPoint,index,lb,ub):\n",
    "    lowerBound = {}\n",
    "    upperBound = {}\n",
    "    for (label,val) in zip(labels,startPoint):\n",
    "        lowerBound[label] = val\n",
    "    for (label,val) in zip(labels,startPoint):\n",
    "        upperBound[label] = val\n",
    "    lowerBound[labels[index]] = lb[index]\n",
    "    upperBound[labels[index]] = ub[index]\n",
    "    return lowerBound,upperBound\n",
    "\n",
    "def call_baron(labels,expr,lowerBound,upperBound,startPoint,index):\n",
    "    model = ConcreteModel(name='cycle')\n",
    "    lBound_dic,uBound_dic = boundary_dic(labels,startPoint,index,lowerBound,upperBound)\n",
    "    def fb(model,i):\n",
    "        return (lBound_dic[i],uBound_dic[i])\n",
    "    model.A = Set(initialize=labels)\n",
    "    model.x = Var(model.A,within=Reals,bounds=fb)\n",
    "    \n",
    "    def objrule(model):\n",
    "        var_lst = []\n",
    "        for var_name in model.x:\n",
    "            var_lst.append(model.x[var_name])\n",
    "        return expr(var_lst)\n",
    "    model.obj = Objective(rule=objrule,sense=minimize)\n",
    "    opt = SolverFactory('baron')\n",
    "    solution = opt.solve(model)\n",
    "    solution.write()\n",
    "    model.pprint()\n",
    "    model.display()\n",
    "    \n",
    "    obj_point = []\n",
    "    for var_name in labels:\n",
    "        obj_point.append(value(model.x[var_name]))\n",
    "    obj_value = value(model.obj)\n",
    "    return obj_point,obj_value"
   ]
  },
  {
   "cell_type": "markdown",
   "metadata": {},
   "source": [
    "# updating step"
   ]
  },
  {
   "cell_type": "code",
   "execution_count": 101,
   "metadata": {
    "ExecuteTime": {
     "end_time": "2019-06-28T19:34:40.964350Z",
     "start_time": "2019-06-28T19:34:40.955308Z"
    }
   },
   "outputs": [],
   "source": [
    "def variable_range(lowerBound,upperBound,startPoint,index,ratio=1):\n",
    "    step = 1.0\n",
    "    new_lowerBound = startPoint[:]\n",
    "    new_upperBound = startPoint[:]\n",
    "    new_lowerBound[index] = startPoint[index] - step\n",
    "    new_upperBound[index] = startPoint[index] + step\n",
    "    return new_lowerBound,new_upperBound"
   ]
  },
  {
   "cell_type": "markdown",
   "metadata": {},
   "source": [
    "# main function\n",
    "Integration of functions above"
   ]
  },
  {
   "cell_type": "code",
   "execution_count": 127,
   "metadata": {
    "ExecuteTime": {
     "end_time": "2019-06-28T19:51:07.768528Z",
     "start_time": "2019-06-28T19:51:06.669866Z"
    }
   },
   "outputs": [
    {
     "name": "stdout",
     "output_type": "stream",
     "text": [
      "Blackbox Model Name:  branin\n",
      "Compilation finished\n",
      "Number of Variables:  2\n",
      "Lower Boundary:  [-5.0, 0.0]\n",
      "Upper Boundary:  [10.0, 15.0]\n",
      "Starting point is:  [2.5, 7.5]\n",
      "[-5.0, 0.0] [10.0, 15.0]\n",
      "===============================================================\n",
      "ALAMO results\n",
      "===============================================================\n",
      "#Model expression:    z1 =  - 13.918761705215544566272 * x1 + 0.61544456433306915510428E-001 * (x1*x2)^2 + 37.277925581735232185565\n",
      "#Rhe sum of squared residuals:   0.425E-01\n",
      "#R squared:   0.999\n",
      "#Root Mean Square Error:   0.595E-01\n",
      "---------------------------------------------------------------\n",
      "# ==========================================================\n",
      "# = Solver Results                                         =\n",
      "# ==========================================================\n",
      "# ----------------------------------------------------------\n",
      "#   Problem Information\n",
      "# ----------------------------------------------------------\n",
      "Problem: \n",
      "- Name: problem\n",
      "  Lower bound: -59.32949989\n",
      "  Upper bound: -59.32356694\n",
      "  Number of objectives: 1\n",
      "  Number of constraints: 1\n",
      "  Number of variables: 3\n",
      "  Sense: unknown\n",
      "# ----------------------------------------------------------\n",
      "#   Solver Information\n",
      "# ----------------------------------------------------------\n",
      "Solver: \n",
      "- Status: ok\n",
      "  Termination condition: optimal\n",
      "  Error rc: 0\n",
      "  Time: 0.0794680118560791\n",
      "# ----------------------------------------------------------\n",
      "#   Solution Information\n",
      "# ----------------------------------------------------------\n",
      "Solution: \n",
      "- number of solutions: 0\n",
      "  number of solutions displayed: 0\n",
      "1 Set Declarations\n",
      "    A : Dim=0, Dimen=1, Size=2, Domain=None, Ordered=False, Bounds=None\n",
      "        ['x1', 'x2']\n",
      "\n",
      "1 Var Declarations\n",
      "    x : Size=2, Index=A\n",
      "        Key : Lower : Value : Upper : Fixed : Stale : Domain\n",
      "         x1 :   1.5 :   1.5 :   3.5 : False : False :  Reals\n",
      "         x2 :   7.5 :   7.5 :   7.5 : False : False :  Reals\n",
      "\n",
      "1 Objective Declarations\n",
      "    obj : Size=1, Index=None, Active=True\n",
      "        Key  : Active : Sense    : Expression\n",
      "        None :   True : minimize : 0.061544456433306916*x[x2]**2*x[x1]**2 - 13.918761705215545*x[x2] + 37.27792558173523\n",
      "\n",
      "3 Declarations: A x obj\n",
      "Model cycle\n",
      "\n",
      "  Variables:\n",
      "    x : Size=2, Index=A\n",
      "        Key : Lower : Value : Upper : Fixed : Stale : Domain\n",
      "         x1 :   1.5 :   1.5 :   3.5 : False : False :  Reals\n",
      "         x2 :   7.5 :   7.5 :   7.5 : False : False :  Reals\n",
      "\n",
      "  Objectives:\n",
      "    obj : Size=1, Index=None, Active=True\n",
      "        Key  : Active : Value\n",
      "        None :   True : -59.323566940040934\n",
      "\n",
      "  Constraints:\n",
      "    None\n",
      "[1.5, 7.5]\n",
      "-59.323566940040934 23.615182546480106\n"
     ]
    }
   ],
   "source": [
    "blackbox_name = \"branin\"\n",
    "compileCode(blackbox_name)\n",
    "numOfVar,lowerBound,upperBound,startPoint = read_datafile(blackbox_name)\n",
    "for indexOfVar in range(len(startPoint)):\n",
    "    lb,ub = variable_range(lowerBound,upperBound,startPoint,indexOfVar)\n",
    "    var_seq = hammersley_seq_format(lb[indexOfVar],ub[indexOfVar])\n",
    "    ydata,xdata = generate_bbox_values(blackbox_name,startPoint,var_seq,indexOfVar)\n",
    "    labels,expr = call_alamopy(xdata,ydata,lowerBound,upperBound)\n",
    "    optimal_point,optimal_val = call_baron(labels,expr,lb,ub,startPoint,indexOfVar)\n",
    "    box_val = check_bbox_optimal(blackbox_name,optimal_point)\n",
    "    print(optimal_val,box_val)\n",
    "    break"
   ]
  }
 ],
 "metadata": {
  "kernelspec": {
   "display_name": "Python 3",
   "language": "python",
   "name": "python3"
  },
  "language_info": {
   "codemirror_mode": {
    "name": "ipython",
    "version": 3
   },
   "file_extension": ".py",
   "mimetype": "text/x-python",
   "name": "python",
   "nbconvert_exporter": "python",
   "pygments_lexer": "ipython3",
   "version": "3.7.0"
  },
  "toc": {
   "base_numbering": 1,
   "nav_menu": {},
   "number_sections": true,
   "sideBar": true,
   "skip_h1_title": false,
   "title_cell": "Table of Contents",
   "title_sidebar": "Contents",
   "toc_cell": false,
   "toc_position": {},
   "toc_section_display": true,
   "toc_window_display": false
  }
 },
 "nbformat": 4,
 "nbformat_minor": 2
}
